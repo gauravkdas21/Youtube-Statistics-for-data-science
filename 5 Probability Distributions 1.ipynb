{
 "cells": [
  {
   "cell_type": "markdown",
   "metadata": {},
   "source": [
    "## Probability Distributions"
   ]
  },
  {
   "cell_type": "markdown",
   "metadata": {},
   "source": [
    "#### 1. Joint Probability\n",
    "#### 2. Binomial distribution\n",
    "#### 3. Poisson Distribution"
   ]
  },
  {
   "cell_type": "code",
   "execution_count": null,
   "metadata": {},
   "outputs": [],
   "source": [
    "import pandas as pd\n",
    "import numpy as np\n",
    "import matplotlib.pyplot as plt\n",
    "import seaborn as sns"
   ]
  },
  {
   "cell_type": "markdown",
   "metadata": {},
   "source": [
    "## Joint Probability"
   ]
  },
  {
   "cell_type": "markdown",
   "metadata": {},
   "source": [
    "### Question 1"
   ]
  },
  {
   "cell_type": "markdown",
   "metadata": {},
   "source": [
    "|Planned to purchase Apple iPhone Xs Max| Actually placed an order for Apple iPhone Xs Max- Yes| Actually placed an order for Apple iPhone Xs Max - No|Total|\n",
    "|--|--|--|--|\n",
    "|Yes|400|100|500|\n",
    "|No|200|1300|1500|\n",
    "|Total|600|1400|2000|\n",
    "\n",
    "#### Calculate the joint probability of the people who planned to purchase and actually placed an order."
   ]
  },
  {
   "cell_type": "code",
   "execution_count": 2,
   "metadata": {},
   "outputs": [
    {
     "name": "stdout",
     "output_type": "stream",
     "text": [
      "Joint probability of the people who planned to purchase and actually placed an order. is 0.2000\n"
     ]
    }
   ],
   "source": [
    "m = 400 # People who planned to purchase and actually placed and order\n",
    "n  = 2000 # total people\n",
    "p = round(m/n,4) \n",
    "print('Joint probability of the people who planned to purchase and actually placed an order. is %1.4f' % p)"
   ]
  },
  {
   "cell_type": "markdown",
   "metadata": {},
   "source": [
    "Joint probability of the people who planned to purchase and actually placed an order. is 0.2000"
   ]
  },
  {
   "cell_type": "markdown",
   "metadata": {},
   "source": [
    "## Conditional Probability"
   ]
  },
  {
   "cell_type": "markdown",
   "metadata": {},
   "source": [
    "#### Conditional Probability refers to the probability of event A, given information about the occurrence of another event B"
   ]
  },
  {
   "cell_type": "markdown",
   "metadata": {},
   "source": [
    "#### Probability of A given B is written as P(A | B)."
   ]
  },
  {
   "cell_type": "markdown",
   "metadata": {},
   "source": [
    "Probability of A given B is written as P(A | B).\n",
    "\n",
    "$P(A\\mid B) = \\frac{P(A \\quad and \\quad B)}{P(B)}$\n",
    "\n",
    "where P(A and B) = Joint probability of A and B\n",
    "*     P(A)       = Marginal probability of A\n",
    "*     P(B)       = Marginal probability of B"
   ]
  },
  {
   "cell_type": "markdown",
   "metadata": {},
   "source": [
    "### Question 2"
   ]
  },
  {
   "cell_type": "markdown",
   "metadata": {},
   "source": [
    "Use the purchase of Apple iPhone Xs Max table.\n",
    "\n",
    "Find the joint probability of the people who planned to purchase and actually placed an order, given that people planned to \n",
    "purchase."
   ]
  },
  {
   "cell_type": "code",
   "execution_count": null,
   "metadata": {},
   "outputs": [],
   "source": [
    "# From the contingency table we can directly use,\n",
    "\n",
    "P   = 400/500\n",
    "\n",
    "print('P(Actually placed an order | Planned to purchase) is %1.4f' % P)     "
   ]
  },
  {
   "cell_type": "code",
   "execution_count": 3,
   "metadata": {},
   "outputs": [
    {
     "name": "stdout",
     "output_type": "stream",
     "text": [
      "P(Actually placed an order | Planned to purchase) is 0.8000\n"
     ]
    }
   ],
   "source": [
    "P_AB = 400/2000  # Planned to purchas AND actually placed an order\n",
    "P_B = 500/2000  # Planned to purchase\n",
    "P_A = P_AB/P_B  # P(Actually placed an order | Planned to purchase)\n",
    "\n",
    "print('P(Actually placed an order | Planned to purchase) is %1.4f' % P_A)     "
   ]
  },
  {
   "cell_type": "markdown",
   "metadata": {},
   "source": [
    "## Binomial Distribution"
   ]
  },
  {
   "cell_type": "markdown",
   "metadata": {},
   "source": [
    "It is widely used probability distribution of a discrete random variable. \n",
    "\n",
    "Plays major role in quality control and quality assurance function. "
   ]
  },
  {
   "cell_type": "markdown",
   "metadata": {},
   "source": [
    "$P(X = x\\mid n,\\pi)$ = $\\frac{n!}{x!(n - x)!}\\pi^x (1 - \\pi)^{n-x} $\n",
    "* where P(X = x) is the probability of getting x successes in n trials\n",
    "and $\\pi$ is the probability of an event of interest"
   ]
  },
  {
   "cell_type": "markdown",
   "metadata": {},
   "source": [
    "Some important functions in Python for Binomial distribution:\n",
    "    \n",
    "1) Probability mass function\n",
    "scipy.stats.binom.pmf gives the probability mass function for the binomial distribution\n",
    "binomial = scipy.stats.binom.pmf (k,n,p), \n",
    "where k is an array and takes values in {0, 1,..., n}\n",
    "n and p are shape parameters for the binomial distribution\n",
    "The output, binomial, gives probability of binomial distribution function in terms of array.\n",
    "\n",
    "2) Cumulative Density function\n",
    "cumbinomial = scipy.stats.binom.cdf(k,n,p) gives cumulative binomial distribution.\n",
    "The output, cumbinomial, gives cumulative probability of binomial distribution function in terms of array.\n",
    "\n",
    "3) Plot the binomial Density function\n",
    "The function, matplotlib.pyplot.plot(k, binomial, ‘o-’) gives us plot of the binomial distribution function."
   ]
  },
  {
   "cell_type": "code",
   "execution_count": null,
   "metadata": {},
   "outputs": [],
   "source": []
  },
  {
   "cell_type": "markdown",
   "metadata": {},
   "source": [
    "### Question (slide):"
   ]
  },
  {
   "cell_type": "markdown",
   "metadata": {},
   "source": [
    "Q. A bank issues credit cards to customers under the scheme of Master Card. Based on the past data, the bank has found out that 60% of all accounts pay on time following the bill. If a sample of 7 accounts is selected at random from the current database, construct the Binomial Probability Distribution of accounts paying on time. "
   ]
  },
  {
   "cell_type": "code",
   "execution_count": 5,
   "metadata": {},
   "outputs": [],
   "source": [
    "from scipy import stats as stats"
   ]
  },
  {
   "cell_type": "code",
   "execution_count": 6,
   "metadata": {},
   "outputs": [],
   "source": [
    "n = 7\n",
    "k = range(0,n+1)\n",
    "p = 0.6"
   ]
  },
  {
   "cell_type": "code",
   "execution_count": 7,
   "metadata": {},
   "outputs": [
    {
     "data": {
      "text/plain": [
       "array([0.0016384, 0.0172032, 0.0774144, 0.193536 , 0.290304 , 0.2612736,\n",
       "       0.1306368, 0.0279936])"
      ]
     },
     "execution_count": 7,
     "metadata": {},
     "output_type": "execute_result"
    }
   ],
   "source": [
    "probs = stats.binom.pmf(k,n,p)\n",
    "probs"
   ]
  },
  {
   "cell_type": "code",
   "execution_count": 12,
   "metadata": {},
   "outputs": [
    {
     "data": {
      "image/png": "[encoded data removed]",
      "text/plain": [
       "<Figure size 432x288 with 1 Axes>"
      ]
     },
     "metadata": {
      "needs_background": "light"
     },
     "output_type": "display_data"
    }
   ],
   "source": [
    "plt.bar(k,probs)\n",
    "plt.xlabel('accounts paying on time')\n",
    "plt.ylabel('probability')\n",
    "plt.show()"
   ]
  },
  {
   "cell_type": "code",
   "execution_count": null,
   "metadata": {},
   "outputs": [],
   "source": []
  },
  {
   "cell_type": "markdown",
   "metadata": {},
   "source": [
    "### Question3:"
   ]
  },
  {
   "cell_type": "markdown",
   "metadata": {},
   "source": [
    "A LED bulb manufacturing company regularly conducts quality checks at specified periods on the products it manufactures. \n",
    "Historically, the failure rate for LED light bulbs that the company manufactures is 5%. Suppose a random sample of 10 LED light \n",
    "bulbs is selected. What is the probability that \n",
    "\n",
    "a) None of the LED bulbs are defective?\n",
    "\n",
    "b) Exactly one of the LED bulbs is defective?\n",
    "\n",
    "c) Two or fewer of the LED bulbs are defective?\n",
    "\n",
    "d) Three or more of the LED bulbs are defective?"
   ]
  },
  {
   "cell_type": "markdown",
   "metadata": {},
   "source": [
    "#### Solution:"
   ]
  },
  {
   "cell_type": "code",
   "execution_count": 13,
   "metadata": {},
   "outputs": [],
   "source": [
    "n = 10\n",
    "k = range(0,n+1)\n",
    "p = 0.05 # Here, failure rate is the success (p) "
   ]
  },
  {
   "cell_type": "code",
   "execution_count": 14,
   "metadata": {},
   "outputs": [
    {
     "name": "stdout",
     "output_type": "stream",
     "text": [
      "[5.98736939e-01 3.15124705e-01 7.46347985e-02 1.04750594e-02\n",
      " 9.64808106e-04 6.09352488e-05 2.67259863e-06 8.03789063e-08\n",
      " 1.58642578e-09 1.85546875e-11 9.76562500e-14]\n"
     ]
    }
   ],
   "source": [
    "probs = stats.binom.pmf(k, n, p)\n",
    "print(probs)"
   ]
  },
  {
   "cell_type": "markdown",
   "metadata": {},
   "source": [
    "a) None of the LED bulbs are defective?"
   ]
  },
  {
   "cell_type": "code",
   "execution_count": null,
   "metadata": {},
   "outputs": [],
   "source": [
    "probs[0]"
   ]
  },
  {
   "cell_type": "markdown",
   "metadata": {},
   "source": [
    "b) Exactly one of the LED bulbs is defective?"
   ]
  },
  {
   "cell_type": "code",
   "execution_count": null,
   "metadata": {},
   "outputs": [],
   "source": [
    "probs[1]"
   ]
  },
  {
   "cell_type": "markdown",
   "metadata": {},
   "source": [
    "Two or fewer of the LED bulbs are defective?"
   ]
  },
  {
   "cell_type": "code",
   "execution_count": null,
   "metadata": {},
   "outputs": [],
   "source": [
    "probs[:3].sum() # k = 0,1,2"
   ]
  },
  {
   "cell_type": "markdown",
   "metadata": {},
   "source": [
    "Three or more of the LED bulbs are defective"
   ]
  },
  {
   "cell_type": "code",
   "execution_count": null,
   "metadata": {},
   "outputs": [],
   "source": [
    "probs[3:].sum() # k = 3,4,5,...10"
   ]
  },
  {
   "cell_type": "code",
   "execution_count": null,
   "metadata": {},
   "outputs": [],
   "source": [
    "# or 1- P(X <= 2)\n",
    "1 - probs[:3].sum()"
   ]
  },
  {
   "cell_type": "markdown",
   "metadata": {},
   "source": [
    "##### We can plot the probability distribution function or PMF now !"
   ]
  },
  {
   "cell_type": "code",
   "execution_count": 17,
   "metadata": {},
   "outputs": [
    {
     "data": {
      "image/png": "[encoded data removed]",
      "text/plain": [
       "<Figure size 432x288 with 1 Axes>"
      ]
     },
     "metadata": {
      "needs_background": "light"
     },
     "output_type": "display_data"
    }
   ],
   "source": [
    "plt.bar(k,probs)\n",
    "plt.title('Binomial')\n",
    "plt.xlabel('Number of Def LED bulbs')\n",
    "plt.ylabel('Prob of Defective LED bulbs')\n",
    "plt.show()"
   ]
  },
  {
   "cell_type": "markdown",
   "metadata": {},
   "source": [
    "##### We can also plot the CDF by using binom.cdf function"
   ]
  },
  {
   "cell_type": "code",
   "execution_count": 20,
   "metadata": {},
   "outputs": [
    {
     "data": {
      "text/plain": [
       "array([5.98736939e-01, 3.15124705e-01, 7.46347985e-02, 1.04750594e-02,\n",
       "       9.64808106e-04, 6.09352488e-05, 2.67259863e-06, 8.03789063e-08,\n",
       "       1.58642578e-09, 1.85546875e-11, 9.76562500e-14])"
      ]
     },
     "execution_count": 20,
     "metadata": {},
     "output_type": "execute_result"
    }
   ],
   "source": [
    "probs"
   ]
  },
  {
   "cell_type": "code",
   "execution_count": 18,
   "metadata": {},
   "outputs": [
    {
     "data": {
      "text/plain": [
       "array([0.59873694, 0.91386164, 0.98849644, 0.9989715 , 0.99993631,\n",
       "       0.99999725, 0.99999992, 1.        , 1.        , 1.        ,\n",
       "       1.        ])"
      ]
     },
     "execution_count": 18,
     "metadata": {},
     "output_type": "execute_result"
    }
   ],
   "source": [
    "cum_probs = stats.binom.cdf(k, n, p)\n",
    "cum_probs"
   ]
  },
  {
   "cell_type": "code",
   "execution_count": 19,
   "metadata": {},
   "outputs": [
    {
     "data": {
      "image/png": "[encoded data removed]",
      "text/plain": [
       "<Figure size 432x288 with 1 Axes>"
      ]
     },
     "metadata": {
      "needs_background": "light"
     },
     "output_type": "display_data"
    }
   ],
   "source": [
    "plt.bar(k,cum_probs)\n",
    "plt.title('Cumm. Binomial')\n",
    "plt.xlabel('Number of Def LED bulbs')\n",
    "plt.ylabel('Prob of Defective LED bulbs')\n",
    "plt.show()"
   ]
  },
  {
   "cell_type": "markdown",
   "metadata": {},
   "source": [
    "## Poisson Distribution"
   ]
  },
  {
   "cell_type": "markdown",
   "metadata": {},
   "source": [
    "This discrete distribution which also plays a major role in quality control. \n",
    "\n",
    "The Poisson distribution is a discrete probability distribution for the counts of events that occur randomly in a given \n",
    "interval of time or space. In such areas of opportunity, there can be more than one occurrence. In such situations, Poisson \n",
    "distribution can be used to compute probabilities.\n",
    "\n",
    "Examples include number of defects per item, number of defects per transformer produced. \n",
    "Notes: Poisson Distribution helps to predict the arrival rate in a waiting line situation where a queue is formed and people \n",
    "wait to be served and the service rate is generally higher than the arrival rate."
   ]
  },
  {
   "cell_type": "markdown",
   "metadata": {},
   "source": [
    "### Properties:\n",
    "\n",
    "Mean μ = λ\n",
    "\n",
    "Standard deviation σ = √ μ\n",
    "\n",
    "The Poisson distribution is the limit of binomial distribution as n approaches ∞and p approaches 0"
   ]
  },
  {
   "cell_type": "markdown",
   "metadata": {},
   "source": [
    "P(X = x) = $\\frac{e^\\lambda \\lambda^x}{x!} $\n",
    "where \n",
    "* P(x)              = Probability of x successes given an idea of  $\\lambda$\n",
    "* $\\lambda$ = Average number of successes\n",
    "* e                   = 2.71828 (based on natural logarithm)\n",
    "* x                    = successes per unit which can take values 0,1,2,3,... $\\infty$"
   ]
  },
  {
   "cell_type": "markdown",
   "metadata": {},
   "source": [
    "##### Applications:\n",
    "\n",
    "Car Accidents\n",
    "\n",
    "Number of deaths by horse kicking in Prussian Army (first application)\n",
    "\n",
    "Birth defects and genetic mutation\n",
    "\n",
    "###### Note:\n",
    "\n",
    "If there is a fixed number of observations, n, each of which is classified as an event of interest or not an event of interest,\n",
    "use the binomial distribution.\n",
    "\n",
    "If there is an area of opportunity, use the Poisson distribution."
   ]
  },
  {
   "cell_type": "markdown",
   "metadata": {},
   "source": [
    "### Question (slide)"
   ]
  },
  {
   "cell_type": "markdown",
   "metadata": {},
   "source": [
    "Customers arrive at a rate of 72 per hour to my shop. What is the probability of k customers arriving in 4 minutes? \n",
    "\n",
    "a) 5 customers \n",
    "\n",
    "b) not more than 3 customers \n",
    "\n",
    "c) more than 3 customers"
   ]
  },
  {
   "cell_type": "markdown",
   "metadata": {},
   "source": [
    "#### Solution:\n",
    "Here, interval is 'per 4 mins'"
   ]
  },
  {
   "cell_type": "code",
   "execution_count": 21,
   "metadata": {},
   "outputs": [
    {
     "data": {
      "text/plain": [
       "4.8"
      ]
     },
     "execution_count": 21,
     "metadata": {},
     "output_type": "execute_result"
    }
   ],
   "source": [
    "lambda_ = 72/60*4  # 72 per hour = 72 per 60 mins = 1.2 per min = 1.2*4 per 4 mins = 4.8 per 4 mins. \n",
    "lambda_"
   ]
  },
  {
   "cell_type": "code",
   "execution_count": 22,
   "metadata": {},
   "outputs": [],
   "source": [
    "k = range(18)"
   ]
  },
  {
   "cell_type": "code",
   "execution_count": 23,
   "metadata": {},
   "outputs": [
    {
     "data": {
      "text/plain": [
       "array([8.22974705e-03, 3.95027858e-02, 9.48066860e-02, 1.51690698e-01,\n",
       "       1.82028837e-01, 1.74747684e-01, 1.39798147e-01, 9.58615865e-02,\n",
       "       5.75169519e-02, 3.06757077e-02, 1.47243397e-02, 6.42516641e-03,\n",
       "       2.57006656e-03, 9.48947654e-04, 3.25353481e-04, 1.04113114e-04,\n",
       "       3.12339342e-05, 8.81899319e-06])"
      ]
     },
     "execution_count": 23,
     "metadata": {},
     "output_type": "execute_result"
    }
   ],
   "source": [
    "probs = stats.poisson.pmf(k, lambda_)\n",
    "probs"
   ]
  },
  {
   "cell_type": "code",
   "execution_count": 26,
   "metadata": {},
   "outputs": [
    {
     "data": {
      "image/png": "[encoded data removed]",
      "text/plain": [
       "<Figure size 432x288 with 1 Axes>"
      ]
     },
     "metadata": {
      "needs_background": "light"
     },
     "output_type": "display_data"
    }
   ],
   "source": [
    "plt.bar(k,probs)\n",
    "plt.title('Poisson')\n",
    "plt.xlabel('No of customers')\n",
    "plt.ylabel('probability')\n",
    "plt.show()"
   ]
  },
  {
   "cell_type": "markdown",
   "metadata": {},
   "source": [
    "### Question (slide)"
   ]
  },
  {
   "cell_type": "markdown",
   "metadata": {},
   "source": [
    "Q. I work as a data analyst in Eduviden Learning Pvt. Ltd. After analyzing data, I make reports, where I have the efficiency of entering 77 words per minute with 6 errors per hour. What is the probability that I will commit 2 errors in a 455 word financial report? "
   ]
  },
  {
   "cell_type": "code",
   "execution_count": 27,
   "metadata": {},
   "outputs": [
    {
     "data": {
      "text/plain": [
       "0.5909090909090909"
      ]
     },
     "execution_count": 27,
     "metadata": {},
     "output_type": "execute_result"
    }
   ],
   "source": [
    "lambda_ = 6/(77*60)*455 \n",
    "lambda_"
   ]
  },
  {
   "cell_type": "code",
   "execution_count": 29,
   "metadata": {},
   "outputs": [
    {
     "data": {
      "text/plain": [
       "9.67"
      ]
     },
     "execution_count": 29,
     "metadata": {},
     "output_type": "execute_result"
    }
   ],
   "source": [
    "p = stats.poisson.pmf(2, lambda_)\n",
    "p.round(4)*100 # in percentage"
   ]
  },
  {
   "cell_type": "markdown",
   "metadata": {},
   "source": [
    "Plot the probability distribution wrt to 255, 455, 1000 word interval."
   ]
  },
  {
   "cell_type": "code",
   "execution_count": 31,
   "metadata": {},
   "outputs": [],
   "source": [
    "lambda_1 = 6/(77*60)*255 \n",
    "lambda_2 = 6/(77*60)*455 \n",
    "lambda_3 = 6/(77*60)*1000 "
   ]
  },
  {
   "cell_type": "code",
   "execution_count": 32,
   "metadata": {},
   "outputs": [
    {
     "name": "stdout",
     "output_type": "stream",
     "text": [
      "0.33116883116883117 0.5909090909090909 1.2987012987012987\n"
     ]
    }
   ],
   "source": [
    "print(lambda_1, lambda_2, lambda_3)"
   ]
  },
  {
   "cell_type": "code",
   "execution_count": 33,
   "metadata": {},
   "outputs": [],
   "source": [
    "k = range(8)"
   ]
  },
  {
   "cell_type": "code",
   "execution_count": 34,
   "metadata": {},
   "outputs": [],
   "source": [
    "probs_1 = stats.poisson.pmf(k, lambda_1)\n",
    "probs_2 = stats.poisson.pmf(k, lambda_2)\n",
    "probs_3 = stats.poisson.pmf(k, lambda_3)"
   ]
  },
  {
   "cell_type": "code",
   "execution_count": 38,
   "metadata": {},
   "outputs": [],
   "source": [
    "d = pd.DataFrame([k, probs_1, probs_2, probs_3]).transpose()\n",
    "d.columns = ['k', 'l = 0.33 (255 words)', 'l = 0.59 (455 words)', 'l = 1.29 (1000 words)']"
   ]
  },
  {
   "cell_type": "code",
   "execution_count": 39,
   "metadata": {},
   "outputs": [
    {
     "data": {
      "text/html": [
       "<div>\n",
       "<style scoped>\n",
       "    .dataframe tbody tr th:only-of-type {\n",
       "        vertical-align: middle;\n",
       "    }\n",
       "\n",
       "    .dataframe tbody tr th {\n",
       "        vertical-align: top;\n",
       "    }\n",
       "\n",
       "    .dataframe thead th {\n",
       "        text-align: right;\n",
       "    }\n",
       "</style>\n",
       "<table border=\"1\" class=\"dataframe\">\n",
       "  <thead>\n",
       "    <tr style=\"text-align: right;\">\n",
       "      <th></th>\n",
       "      <th>k</th>\n",
       "      <th>l = 0.33 (255 words)</th>\n",
       "      <th>l = 0.59 (455 words)</th>\n",
       "      <th>l = 1.29 (1000 words)</th>\n",
       "    </tr>\n",
       "  </thead>\n",
       "  <tbody>\n",
       "    <tr>\n",
       "      <th>0</th>\n",
       "      <td>0.0</td>\n",
       "      <td>0.718084</td>\n",
       "      <td>0.553824</td>\n",
       "      <td>0.272886</td>\n",
       "    </tr>\n",
       "    <tr>\n",
       "      <th>1</th>\n",
       "      <td>1.0</td>\n",
       "      <td>0.237807</td>\n",
       "      <td>0.327259</td>\n",
       "      <td>0.354397</td>\n",
       "    </tr>\n",
       "    <tr>\n",
       "      <th>2</th>\n",
       "      <td>2.0</td>\n",
       "      <td>0.039377</td>\n",
       "      <td>0.096690</td>\n",
       "      <td>0.230128</td>\n",
       "    </tr>\n",
       "    <tr>\n",
       "      <th>3</th>\n",
       "      <td>3.0</td>\n",
       "      <td>0.004347</td>\n",
       "      <td>0.019045</td>\n",
       "      <td>0.099623</td>\n",
       "    </tr>\n",
       "    <tr>\n",
       "      <th>4</th>\n",
       "      <td>4.0</td>\n",
       "      <td>0.000360</td>\n",
       "      <td>0.002813</td>\n",
       "      <td>0.032345</td>\n",
       "    </tr>\n",
       "  </tbody>\n",
       "</table>\n",
       "</div>"
      ],
      "text/plain": [
       "     k  l = 0.33 (255 words)  l = 0.59 (455 words)  l = 1.29 (1000 words)\n",
       "0  0.0              0.718084              0.553824               0.272886\n",
       "1  1.0              0.237807              0.327259               0.354397\n",
       "2  2.0              0.039377              0.096690               0.230128\n",
       "3  3.0              0.004347              0.019045               0.099623\n",
       "4  4.0              0.000360              0.002813               0.032345"
      ]
     },
     "execution_count": 39,
     "metadata": {},
     "output_type": "execute_result"
    }
   ],
   "source": [
    "d.head()"
   ]
  },
  {
   "cell_type": "code",
   "execution_count": 40,
   "metadata": {},
   "outputs": [
    {
     "data": {
      "text/html": [
       "<div>\n",
       "<style scoped>\n",
       "    .dataframe tbody tr th:only-of-type {\n",
       "        vertical-align: middle;\n",
       "    }\n",
       "\n",
       "    .dataframe tbody tr th {\n",
       "        vertical-align: top;\n",
       "    }\n",
       "\n",
       "    .dataframe thead th {\n",
       "        text-align: right;\n",
       "    }\n",
       "</style>\n",
       "<table border=\"1\" class=\"dataframe\">\n",
       "  <thead>\n",
       "    <tr style=\"text-align: right;\">\n",
       "      <th></th>\n",
       "      <th>l = 0.33 (255 words)</th>\n",
       "      <th>l = 0.59 (455 words)</th>\n",
       "      <th>l = 1.29 (1000 words)</th>\n",
       "    </tr>\n",
       "    <tr>\n",
       "      <th>k</th>\n",
       "      <th></th>\n",
       "      <th></th>\n",
       "      <th></th>\n",
       "    </tr>\n",
       "  </thead>\n",
       "  <tbody>\n",
       "    <tr>\n",
       "      <th>0.0</th>\n",
       "      <td>0.718084</td>\n",
       "      <td>0.553824</td>\n",
       "      <td>0.272886</td>\n",
       "    </tr>\n",
       "    <tr>\n",
       "      <th>1.0</th>\n",
       "      <td>0.237807</td>\n",
       "      <td>0.327259</td>\n",
       "      <td>0.354397</td>\n",
       "    </tr>\n",
       "    <tr>\n",
       "      <th>2.0</th>\n",
       "      <td>0.039377</td>\n",
       "      <td>0.096690</td>\n",
       "      <td>0.230128</td>\n",
       "    </tr>\n",
       "    <tr>\n",
       "      <th>3.0</th>\n",
       "      <td>0.004347</td>\n",
       "      <td>0.019045</td>\n",
       "      <td>0.099623</td>\n",
       "    </tr>\n",
       "    <tr>\n",
       "      <th>4.0</th>\n",
       "      <td>0.000360</td>\n",
       "      <td>0.002813</td>\n",
       "      <td>0.032345</td>\n",
       "    </tr>\n",
       "  </tbody>\n",
       "</table>\n",
       "</div>"
      ],
      "text/plain": [
       "     l = 0.33 (255 words)  l = 0.59 (455 words)  l = 1.29 (1000 words)\n",
       "k                                                                     \n",
       "0.0              0.718084              0.553824               0.272886\n",
       "1.0              0.237807              0.327259               0.354397\n",
       "2.0              0.039377              0.096690               0.230128\n",
       "3.0              0.004347              0.019045               0.099623\n",
       "4.0              0.000360              0.002813               0.032345"
      ]
     },
     "execution_count": 40,
     "metadata": {},
     "output_type": "execute_result"
    }
   ],
   "source": [
    "d_ = d.set_index('k')\n",
    "d_.head()"
   ]
  },
  {
   "cell_type": "code",
   "execution_count": 42,
   "metadata": {},
   "outputs": [
    {
     "data": {
      "image/png": "[encoded data removed]",
      "text/plain": [
       "<Figure size 432x288 with 1 Axes>"
      ]
     },
     "metadata": {
      "needs_background": "light"
     },
     "output_type": "display_data"
    }
   ],
   "source": [
    "d_.plot(kind = 'bar')\n",
    "plt.xlabel('no of errors')\n",
    "plt.ylabel('probability')\n",
    "plt.show()"
   ]
  },
  {
   "cell_type": "code",
   "execution_count": null,
   "metadata": {},
   "outputs": [],
   "source": []
  },
  {
   "cell_type": "markdown",
   "metadata": {},
   "source": [
    "### Question 4"
   ]
  },
  {
   "cell_type": "markdown",
   "metadata": {},
   "source": [
    "A Life Insurance agent sells on the average 3 life insurance policies per week. Use the Poisson law to calculate the \n",
    "probability that in a given week, he will sell:\n",
    "\n",
    "a) Some policies \n",
    "\n",
    "b) 2 or more but less than 5 policies?"
   ]
  },
  {
   "cell_type": "markdown",
   "metadata": {},
   "source": [
    "#### Solution:\n",
    "Here, interval is 'per week'. So, lambda = average rate = 3"
   ]
  },
  {
   "cell_type": "code",
   "execution_count": 46,
   "metadata": {},
   "outputs": [],
   "source": [
    "lambda_ = 3"
   ]
  },
  {
   "cell_type": "markdown",
   "metadata": {},
   "source": [
    "We can set up all the possible outcomes and calculate their corresponding probabilities.\n",
    "\n",
    "Hence we can create the PMF (probability mass function) using poisson.pmf from stats module"
   ]
  },
  {
   "cell_type": "code",
   "execution_count": 47,
   "metadata": {},
   "outputs": [],
   "source": [
    "x = np.arange(18)"
   ]
  },
  {
   "cell_type": "code",
   "execution_count": 51,
   "metadata": {},
   "outputs": [
    {
     "data": {
      "text/plain": [
       "array([4.97870684e-02, 1.49361205e-01, 2.24041808e-01, 2.24041808e-01,\n",
       "       1.68031356e-01, 1.00818813e-01, 5.04094067e-02, 2.16040315e-02,\n",
       "       8.10151179e-03, 2.70050393e-03, 8.10151179e-04, 2.20950322e-04,\n",
       "       5.52375804e-05, 1.27471339e-05, 2.73152870e-06, 5.46305740e-07,\n",
       "       1.02432326e-07, 1.80762929e-08])"
      ]
     },
     "execution_count": 51,
     "metadata": {},
     "output_type": "execute_result"
    }
   ],
   "source": [
    "p = stats.poisson.pmf(x, lambda_)\n",
    "p"
   ]
  },
  {
   "cell_type": "markdown",
   "metadata": {},
   "source": [
    "a) Some policies "
   ]
  },
  {
   "cell_type": "code",
   "execution_count": 54,
   "metadata": {},
   "outputs": [
    {
     "data": {
      "text/plain": [
       "0.9502129280605847"
      ]
     },
     "execution_count": 54,
     "metadata": {},
     "output_type": "execute_result"
    }
   ],
   "source": [
    "p[1:].sum()"
   ]
  },
  {
   "cell_type": "code",
   "execution_count": 55,
   "metadata": {},
   "outputs": [],
   "source": [
    "#stats.poisson.pmf(range(1,18), lambda_).sum()"
   ]
  },
  {
   "cell_type": "markdown",
   "metadata": {},
   "source": [
    "b) 2 or more but less than 5 policies?"
   ]
  },
  {
   "cell_type": "code",
   "execution_count": 56,
   "metadata": {},
   "outputs": [
    {
     "data": {
      "text/plain": [
       "0.6161149710523164"
      ]
     },
     "execution_count": 56,
     "metadata": {},
     "output_type": "execute_result"
    }
   ],
   "source": [
    "sum(p[2:5])"
   ]
  },
  {
   "cell_type": "markdown",
   "metadata": {},
   "source": [
    "##### Plot a poisson PMF"
   ]
  },
  {
   "cell_type": "code",
   "execution_count": 57,
   "metadata": {},
   "outputs": [
    {
     "data": {
      "image/png": "[encoded data removed]",
      "text/plain": [
       "<Figure size 432x288 with 1 Axes>"
      ]
     },
     "metadata": {
      "needs_background": "light"
     },
     "output_type": "display_data"
    }
   ],
   "source": [
    "plt.bar(x,p)\n",
    "plt.title('Poisson')\n",
    "plt.xlabel('Number of Policies sold per week')\n",
    "plt.ylabel('Prob of Policies sold per week')\n",
    "plt.show()"
   ]
  },
  {
   "cell_type": "markdown",
   "metadata": {},
   "source": [
    "##### Plot a poisson CDF using poisson.cdf function"
   ]
  },
  {
   "cell_type": "code",
   "execution_count": 58,
   "metadata": {},
   "outputs": [
    {
     "data": {
      "text/plain": [
       "array([0.04978707, 0.19914827, 0.42319008, 0.64723189, 0.81526324,\n",
       "       0.91608206, 0.96649146, 0.9880955 , 0.99619701, 0.99889751,\n",
       "       0.99970766, 0.99992861, 0.99998385, 0.9999966 , 0.99999933,\n",
       "       0.99999988, 0.99999998, 1.        ])"
      ]
     },
     "execution_count": 58,
     "metadata": {},
     "output_type": "execute_result"
    }
   ],
   "source": [
    "cumpoisson = stats.poisson.cdf(x, lambda_)\n",
    "cumpoisson"
   ]
  },
  {
   "cell_type": "code",
   "execution_count": 59,
   "metadata": {},
   "outputs": [
    {
     "data": {
      "image/png": "[encoded data removed]",
      "text/plain": [
       "<Figure size 432x288 with 1 Axes>"
      ]
     },
     "metadata": {
      "needs_background": "light"
     },
     "output_type": "display_data"
    }
   ],
   "source": [
    "plt.bar(x,cumpoisson)\n",
    "plt.title('Cumm. Poisson')\n",
    "plt.xlabel('Number of Policies sold per week')\n",
    "plt.ylabel('Cumulative Prob of Policies sold per week')\n",
    "plt.show()"
   ]
  },
  {
   "cell_type": "markdown",
   "metadata": {},
   "source": [
    "### Question 5"
   ]
  },
  {
   "cell_type": "markdown",
   "metadata": {},
   "source": [
    "Computing Binomial probabilities for service at a Fast-Food Restaurant"
   ]
  },
  {
   "cell_type": "markdown",
   "metadata": {},
   "source": [
    "### Context:\n",
    "\n",
    "Accuracy in taking orders at a drive -through window is important for fast- food chains.Periodically, QSR Magazine publishes \"The Drive- thru Performance Study: Order accuracy\" that measures the percentage of orders that are filled correctly. In a recent month, the percentage of orders filled correctly at Wendy's was approximately 86.8%. Suppose that you go to drive-through window at Wendy's and place an order. Two friends of yours independently place orders at the drive-through window at the same Wendy's."
   ]
  },
  {
   "cell_type": "markdown",
   "metadata": {},
   "source": [
    "### What are the probabilities that all three, that none of the three, and that atleast two of the three orders will be filled correctly?"
   ]
  },
  {
   "cell_type": "markdown",
   "metadata": {},
   "source": [
    "Because there are three orders and the probability of a correct order is 0.868.\n",
    "    Using Binomial distribution equation,\n",
    "    \n",
    "    P(X = x|n =3, p = 0.868)\n",
    "    p(x) = 3Cx*((0.869)**x)*((1-0.868)**(3-x)) --> equation\n",
    "    \n",
    "    Likewise, calculate X= 0,\n",
    "     P(x = 0) = 0.0023\n",
    "    \n",
    "    Hence, P(X>=2) = P(X=2)+P(X=3) = 0.9524\n",
    "    P(X==3) = 0.653"
   ]
  },
  {
   "cell_type": "code",
   "execution_count": 63,
   "metadata": {},
   "outputs": [],
   "source": [
    "n = 3 \n",
    "p = 0.868 # success"
   ]
  },
  {
   "cell_type": "markdown",
   "metadata": {},
   "source": [
    "a) Calculating the probability that all will be filled correctly "
   ]
  },
  {
   "cell_type": "code",
   "execution_count": 64,
   "metadata": {},
   "outputs": [
    {
     "data": {
      "text/plain": [
       "0.653972032"
      ]
     },
     "execution_count": 64,
     "metadata": {},
     "output_type": "execute_result"
    }
   ],
   "source": [
    "stats.binom.pmf(3,n,p)"
   ]
  },
  {
   "cell_type": "markdown",
   "metadata": {},
   "source": [
    "b) Calculating the probability that None will be filled correctly "
   ]
  },
  {
   "cell_type": "code",
   "execution_count": 66,
   "metadata": {},
   "outputs": [
    {
     "data": {
      "text/plain": [
       "0.002299968"
      ]
     },
     "execution_count": 66,
     "metadata": {},
     "output_type": "execute_result"
    }
   ],
   "source": [
    "stats.binom.pmf(0,n,p)"
   ]
  },
  {
   "cell_type": "markdown",
   "metadata": {},
   "source": [
    "c) Calculating the probability that atleast two will be filled correctly "
   ]
  },
  {
   "cell_type": "code",
   "execution_count": 67,
   "metadata": {},
   "outputs": [
    {
     "data": {
      "text/plain": [
       "0.9523279359999999"
      ]
     },
     "execution_count": 67,
     "metadata": {},
     "output_type": "execute_result"
    }
   ],
   "source": [
    "stats.binom.pmf([2,3],n,p).sum()"
   ]
  },
  {
   "cell_type": "markdown",
   "metadata": {},
   "source": [
    "The probability that all the three orders are filled correctly is 0.6540, 65.4% The probability that none of the orders are \n",
    "filled correctly is 0.0023, 0.23% The probability that atleat two of the three are filled correctly is 0.9524, 95.24%"
   ]
  },
  {
   "cell_type": "code",
   "execution_count": 68,
   "metadata": {},
   "outputs": [],
   "source": [
    "## or "
   ]
  },
  {
   "cell_type": "code",
   "execution_count": 72,
   "metadata": {},
   "outputs": [
    {
     "data": {
      "text/plain": [
       "array([0.00229997, 0.0453721 , 0.2983559 , 0.65397203])"
      ]
     },
     "execution_count": 72,
     "metadata": {},
     "output_type": "execute_result"
    }
   ],
   "source": [
    "k = range(0,n+1)\n",
    "probs = stats.binom.pmf(k,n,p)\n",
    "probs"
   ]
  },
  {
   "cell_type": "code",
   "execution_count": 74,
   "metadata": {},
   "outputs": [
    {
     "data": {
      "text/plain": [
       "0.653972032"
      ]
     },
     "execution_count": 74,
     "metadata": {},
     "output_type": "execute_result"
    }
   ],
   "source": [
    "# a) Calculating the probability that all will be filled correctly\n",
    "\n",
    "probs[3]"
   ]
  },
  {
   "cell_type": "code",
   "execution_count": 75,
   "metadata": {},
   "outputs": [
    {
     "data": {
      "text/plain": [
       "0.002299968"
      ]
     },
     "execution_count": 75,
     "metadata": {},
     "output_type": "execute_result"
    }
   ],
   "source": [
    "# b) Calculating the probability that None will be filled correctly\n",
    "\n",
    "probs[0]"
   ]
  },
  {
   "cell_type": "code",
   "execution_count": 76,
   "metadata": {},
   "outputs": [
    {
     "data": {
      "text/plain": [
       "0.9523279359999999"
      ]
     },
     "execution_count": 76,
     "metadata": {},
     "output_type": "execute_result"
    }
   ],
   "source": [
    "# c) Calculating the probability that alteast two will be filled correctly\n",
    "\n",
    "probs[2:4].sum()"
   ]
  },
  {
   "cell_type": "code",
   "execution_count": null,
   "metadata": {},
   "outputs": [],
   "source": []
  }
 ],
 "metadata": {
  "kernelspec": {
   "display_name": "Python 3",
   "language": "python",
   "name": "python3"
  },
  "language_info": {
   "codemirror_mode": {
    "name": "ipython",
    "version": 3
   },
   "file_extension": ".py",
   "mimetype": "text/x-python",
   "name": "python",
   "nbconvert_exporter": "python",
   "pygments_lexer": "ipython3",
   "version": "3.8.3"
  }
 },
 "nbformat": 4,
 "nbformat_minor": 2
}
