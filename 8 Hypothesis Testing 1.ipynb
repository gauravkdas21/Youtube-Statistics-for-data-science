{
 "cells": [
  {
   "cell_type": "markdown",
   "metadata": {
    "_cell_guid": "cf40190e-4ebf-4a2e-8e5b-1d30164f9c74",
    "_uuid": "e73e536b1c5b44bfe0015cfdb2e4d031d6d4cbeb",
    "colab_type": "text",
    "id": "Iawv0qTtE42x"
   },
   "source": [
    "## Overview\n",
    "Let's say you know the mean and standard deviation of a population. How can you tell if a sample is from this population or some other population? Although we may never know with 100% certainty, we can look for statistically significant differences between the sample statistics and the population paramters. This is done by first stating what is refered to as a null hypothesis, which in this scenario would be that there is no difference between the sample mean and the population mean. Then we look for statistical evidence to accept or reject the null hypothesis. What if we don't know the population parameters? After this notebook you will know:\n",
    "* How to formulate a null hypothesis and alternative hypothesis for comparing a sample mean to a population mean.\n",
    "* How to conduct a z-test using the z-statistic for the sample mean to gain statistical evidence to accept or reject the null hypothesis.\n",
    "* How to one-sample, paired sample, and independent sample t-tests when the population standard deviation is unknown and must be estimated using the sample standard deviation.\n",
    "\n"
   ]
  },
  {
   "cell_type": "markdown",
   "metadata": {
    "_cell_guid": "b3296b0c-eb2f-4886-b54b-4a8cd12dbdd7",
    "_uuid": "c070713f2c711df50418f4137e60055b12dab7ab",
    "colab_type": "text",
    "id": "gO-Znsc7E42y"
   },
   "source": [
    "The following cell will import the WineEnthusiast data set using pandas. The data is linked to above and is formated as a CSV (comma-separated-values) file. Such a file could be opend in Excel but here we simply load the file into a pandas data structure called a dataframe and print out the first couple rows of the dataframe."
   ]
  },
  {
   "cell_type": "code",
   "execution_count": 1,
   "metadata": {
    "_cell_guid": "bf24efc1-e20f-4817-bd72-52ebe0ca96a0",
    "_uuid": "eb3e15689e95e9c1118ec39a48b2497af59e3b23",
    "colab": {},
    "colab_type": "code",
    "id": "N1kgkhiWE42z"
   },
   "outputs": [],
   "source": [
    "import numpy as np\n",
    "import pandas as pd\n",
    "import matplotlib.pyplot as plt\n",
    "import seaborn as sns\n",
    "import scipy.stats as stats"
   ]
  },
  {
   "cell_type": "code",
   "execution_count": 2,
   "metadata": {},
   "outputs": [],
   "source": [
    "wine_data = pd.read_csv(\"datasets/wine_data.csv\")"
   ]
  },
  {
   "cell_type": "code",
   "execution_count": 3,
   "metadata": {},
   "outputs": [
    {
     "data": {
      "text/html": [
       "<div>\n",
       "<style scoped>\n",
       "    .dataframe tbody tr th:only-of-type {\n",
       "        vertical-align: middle;\n",
       "    }\n",
       "\n",
       "    .dataframe tbody tr th {\n",
       "        vertical-align: top;\n",
       "    }\n",
       "\n",
       "    .dataframe thead th {\n",
       "        text-align: right;\n",
       "    }\n",
       "</style>\n",
       "<table border=\"1\" class=\"dataframe\">\n",
       "  <thead>\n",
       "    <tr style=\"text-align: right;\">\n",
       "      <th></th>\n",
       "      <th>Unnamed: 0</th>\n",
       "      <th>country</th>\n",
       "      <th>description</th>\n",
       "      <th>designation</th>\n",
       "      <th>points</th>\n",
       "      <th>price</th>\n",
       "      <th>province</th>\n",
       "      <th>region_1</th>\n",
       "      <th>region_2</th>\n",
       "      <th>taster_name</th>\n",
       "      <th>taster_twitter_handle</th>\n",
       "      <th>title</th>\n",
       "      <th>variety</th>\n",
       "      <th>winery</th>\n",
       "    </tr>\n",
       "  </thead>\n",
       "  <tbody>\n",
       "    <tr>\n",
       "      <th>0</th>\n",
       "      <td>0</td>\n",
       "      <td>Italy</td>\n",
       "      <td>Aromas include tropical fruit, broom, brimston...</td>\n",
       "      <td>Vulkà Bianco</td>\n",
       "      <td>87</td>\n",
       "      <td>NaN</td>\n",
       "      <td>Sicily &amp; Sardinia</td>\n",
       "      <td>Etna</td>\n",
       "      <td>NaN</td>\n",
       "      <td>Kerin O’Keefe</td>\n",
       "      <td>@kerinokeefe</td>\n",
       "      <td>Nicosia 2013 Vulkà Bianco  (Etna)</td>\n",
       "      <td>White Blend</td>\n",
       "      <td>Nicosia</td>\n",
       "    </tr>\n",
       "    <tr>\n",
       "      <th>1</th>\n",
       "      <td>1</td>\n",
       "      <td>Portugal</td>\n",
       "      <td>This is ripe and fruity, a wine that is smooth...</td>\n",
       "      <td>Avidagos</td>\n",
       "      <td>87</td>\n",
       "      <td>15.0</td>\n",
       "      <td>Douro</td>\n",
       "      <td>NaN</td>\n",
       "      <td>NaN</td>\n",
       "      <td>Roger Voss</td>\n",
       "      <td>@vossroger</td>\n",
       "      <td>Quinta dos Avidagos 2011 Avidagos Red (Douro)</td>\n",
       "      <td>Portuguese Red</td>\n",
       "      <td>Quinta dos Avidagos</td>\n",
       "    </tr>\n",
       "    <tr>\n",
       "      <th>2</th>\n",
       "      <td>2</td>\n",
       "      <td>US</td>\n",
       "      <td>Tart and snappy, the flavors of lime flesh and...</td>\n",
       "      <td>NaN</td>\n",
       "      <td>87</td>\n",
       "      <td>14.0</td>\n",
       "      <td>Oregon</td>\n",
       "      <td>Willamette Valley</td>\n",
       "      <td>Willamette Valley</td>\n",
       "      <td>Paul Gregutt</td>\n",
       "      <td>@paulgwine</td>\n",
       "      <td>Rainstorm 2013 Pinot Gris (Willamette Valley)</td>\n",
       "      <td>Pinot Gris</td>\n",
       "      <td>Rainstorm</td>\n",
       "    </tr>\n",
       "    <tr>\n",
       "      <th>3</th>\n",
       "      <td>3</td>\n",
       "      <td>US</td>\n",
       "      <td>Pineapple rind, lemon pith and orange blossom ...</td>\n",
       "      <td>Reserve Late Harvest</td>\n",
       "      <td>87</td>\n",
       "      <td>13.0</td>\n",
       "      <td>Michigan</td>\n",
       "      <td>Lake Michigan Shore</td>\n",
       "      <td>NaN</td>\n",
       "      <td>Alexander Peartree</td>\n",
       "      <td>NaN</td>\n",
       "      <td>St. Julian 2013 Reserve Late Harvest Riesling ...</td>\n",
       "      <td>Riesling</td>\n",
       "      <td>St. Julian</td>\n",
       "    </tr>\n",
       "    <tr>\n",
       "      <th>4</th>\n",
       "      <td>4</td>\n",
       "      <td>US</td>\n",
       "      <td>Much like the regular bottling from 2012, this...</td>\n",
       "      <td>Vintner's Reserve Wild Child Block</td>\n",
       "      <td>87</td>\n",
       "      <td>65.0</td>\n",
       "      <td>Oregon</td>\n",
       "      <td>Willamette Valley</td>\n",
       "      <td>Willamette Valley</td>\n",
       "      <td>Paul Gregutt</td>\n",
       "      <td>@paulgwine</td>\n",
       "      <td>Sweet Cheeks 2012 Vintner's Reserve Wild Child...</td>\n",
       "      <td>Pinot Noir</td>\n",
       "      <td>Sweet Cheeks</td>\n",
       "    </tr>\n",
       "  </tbody>\n",
       "</table>\n",
       "</div>"
      ],
      "text/plain": [
       "   Unnamed: 0   country                                        description  \\\n",
       "0           0     Italy  Aromas include tropical fruit, broom, brimston...   \n",
       "1           1  Portugal  This is ripe and fruity, a wine that is smooth...   \n",
       "2           2        US  Tart and snappy, the flavors of lime flesh and...   \n",
       "3           3        US  Pineapple rind, lemon pith and orange blossom ...   \n",
       "4           4        US  Much like the regular bottling from 2012, this...   \n",
       "\n",
       "                          designation  points  price           province  \\\n",
       "0                        Vulkà Bianco      87    NaN  Sicily & Sardinia   \n",
       "1                            Avidagos      87   15.0              Douro   \n",
       "2                                 NaN      87   14.0             Oregon   \n",
       "3                Reserve Late Harvest      87   13.0           Michigan   \n",
       "4  Vintner's Reserve Wild Child Block      87   65.0             Oregon   \n",
       "\n",
       "              region_1           region_2         taster_name  \\\n",
       "0                 Etna                NaN       Kerin O’Keefe   \n",
       "1                  NaN                NaN          Roger Voss   \n",
       "2    Willamette Valley  Willamette Valley        Paul Gregutt   \n",
       "3  Lake Michigan Shore                NaN  Alexander Peartree   \n",
       "4    Willamette Valley  Willamette Valley        Paul Gregutt   \n",
       "\n",
       "  taster_twitter_handle                                              title  \\\n",
       "0          @kerinokeefe                  Nicosia 2013 Vulkà Bianco  (Etna)   \n",
       "1            @vossroger      Quinta dos Avidagos 2011 Avidagos Red (Douro)   \n",
       "2           @paulgwine       Rainstorm 2013 Pinot Gris (Willamette Valley)   \n",
       "3                   NaN  St. Julian 2013 Reserve Late Harvest Riesling ...   \n",
       "4           @paulgwine   Sweet Cheeks 2012 Vintner's Reserve Wild Child...   \n",
       "\n",
       "          variety               winery  \n",
       "0     White Blend              Nicosia  \n",
       "1  Portuguese Red  Quinta dos Avidagos  \n",
       "2      Pinot Gris            Rainstorm  \n",
       "3        Riesling           St. Julian  \n",
       "4      Pinot Noir         Sweet Cheeks  "
      ]
     },
     "execution_count": 3,
     "metadata": {},
     "output_type": "execute_result"
    }
   ],
   "source": [
    "wine_data.head()"
   ]
  },
  {
   "cell_type": "markdown",
   "metadata": {},
   "source": [
    "## Z-test"
   ]
  },
  {
   "cell_type": "markdown",
   "metadata": {
    "_cell_guid": "6947b130-e149-44f0-bb45-f36a88787ce0",
    "_uuid": "3f5284503c71ef3b19997b3f9a30d20b82ca657f",
    "colab_type": "text",
    "id": "F-Sc4NFQE422"
   },
   "source": [
    "### Is A Sample of Wine Scores From the Wine Enthusiast Population\n",
    "Let's assume the WineEnthusiast point scores are interval-scaled normally distributed data. Let's find the population mean and population standard deviation."
   ]
  },
  {
   "cell_type": "markdown",
   "metadata": {
    "_cell_guid": "0c4b6d09-6a40-45b5-afc4-171a97caef7d",
    "_uuid": "92d2b57b008367b44cd18fb59db9581b0da201ae",
    "colab_type": "text",
    "id": "CFt6UWTDE426"
   },
   "source": [
    "A sample of N=10 wine point scores yields a sample mean of x_bar = 90.2. Is this sample from the WineEnthusiast population? To test this question we will use what is refered to as a one-sample z-test. First we state the null hypothesis and alternative hypothesis like this;\n",
    "* H<sub>0</sub>: The sample is from the WineEnthusiast population, x_bar = &mu;.\n",
    "* H<sub>A</sub>: The sample is not from the WineEnthusiast population, x_bar != (not equal) &mu;.\n",
    "\n",
    "\n",
    "Process:\n",
    "1. We specify a significance (alpha) level, typically at 5%.\n",
    "\n",
    "2. Next, instead of using the [z table](http://www.stat.ufl.edu/~athienit/Tables/Ztable.pdf) to extarct z-critical which is a lenghty process; we should use **stats.norm.ppf()** function\n",
    "\n",
    "    * a) We use **stats.norm.ppf(1-alpha, loc=0, scale=1)** for one sided test\n",
    "    * b) We use **stats.norm.ppf(1-alpha/2, loc=0, scale=1)** for two sided test\n",
    "\n",
    "3. Next, we calculate the p-value and z-statistic by using function **weightstats.ztest(x,1 x2 = None, sample_mean)** from statsmodels.stats\n",
    "\n",
    "4. Next we compare the z-statitic with the z-critical or we can compare the p-value with alpha\n",
    "\n",
    "5. If z-statistic < z-critical or p-value > alpha, then we accept the null hypothesis & vice-versa."
   ]
  },
  {
   "cell_type": "code",
   "execution_count": 4,
   "metadata": {},
   "outputs": [],
   "source": [
    "from statsmodels.stats import weightstats"
   ]
  },
  {
   "cell_type": "code",
   "execution_count": 5,
   "metadata": {},
   "outputs": [
    {
     "name": "stdout",
     "output_type": "stream",
     "text": [
      "mu:  88.44713820775404 , sigma: 3.0397302029162336\n"
     ]
    }
   ],
   "source": [
    "# Given:\n",
    "\n",
    "alpha = 0.05\n",
    "sample_mean = 90.2\n",
    "x = wine_data['points']\n",
    "mu = x.mean()\n",
    "sigma = x.std() # by default ddof = 0, since population std; considering the entire column as population\n",
    "print(\"mu: \", mu, \", sigma:\", sigma)"
   ]
  },
  {
   "cell_type": "markdown",
   "metadata": {},
   "source": [
    "* If we want to calculate sample standard deviation, we should use x.std(ddof = 1)"
   ]
  },
  {
   "cell_type": "markdown",
   "metadata": {},
   "source": [
    "#### Step1: Calculate z-statistic and p-value to comapare it with alpha "
   ]
  },
  {
   "cell_type": "code",
   "execution_count": 6,
   "metadata": {},
   "outputs": [
    {
     "name": "stdout",
     "output_type": "stream",
     "text": [
      "-207.89108515615084 0.0\n"
     ]
    }
   ],
   "source": [
    "z_stat, p = weightstats.ztest(x1 = wine_data['points'], value = sample_mean) \n",
    "print(z_stat, p)"
   ]
  },
  {
   "cell_type": "code",
   "execution_count": 7,
   "metadata": {},
   "outputs": [
    {
     "name": "stdout",
     "output_type": "stream",
     "text": [
      "reject null hypothesis\n"
     ]
    }
   ],
   "source": [
    "if p < alpha:\n",
    "    print(\"reject null hypothesis\")\n",
    "else:\n",
    "    print(\"accept null hypothesis\")"
   ]
  },
  {
   "cell_type": "code",
   "execution_count": 8,
   "metadata": {},
   "outputs": [
    {
     "name": "stdout",
     "output_type": "stream",
     "text": [
      "-207.89108515615084 0.0\n"
     ]
    }
   ],
   "source": [
    "z_stat, p = weightstats.ztest(x1 = wine_data['points'], value = 90.2) \n",
    "print(z_stat, p)"
   ]
  },
  {
   "cell_type": "code",
   "execution_count": 9,
   "metadata": {},
   "outputs": [
    {
     "name": "stdout",
     "output_type": "stream",
     "text": [
      "-1370.1804587637616 0.0\n"
     ]
    }
   ],
   "source": [
    "z_stat, p = weightstats.ztest(x1 = wine_data['points'], value = 100) \n",
    "print(z_stat, p)"
   ]
  },
  {
   "cell_type": "code",
   "execution_count": 10,
   "metadata": {},
   "outputs": [
    {
     "name": "stdout",
     "output_type": "stream",
     "text": [
      "53.031019123109125 0.0\n"
     ]
    }
   ],
   "source": [
    "z_stat, p = weightstats.ztest(x1 = wine_data['points'], value = 88) \n",
    "print(z_stat, p)"
   ]
  },
  {
   "cell_type": "code",
   "execution_count": 11,
   "metadata": {},
   "outputs": [
    {
     "name": "stdout",
     "output_type": "stream",
     "text": [
      "5.590636526879426 2.262387183113948e-08\n"
     ]
    }
   ],
   "source": [
    "z_stat, p = weightstats.ztest(x1 = wine_data['points'], value = 88.4) \n",
    "print(z_stat, p)"
   ]
  },
  {
   "cell_type": "code",
   "execution_count": 12,
   "metadata": {},
   "outputs": [
    {
     "name": "stdout",
     "output_type": "stream",
     "text": [
      "2.0326078321621144 0.04209215959274512\n"
     ]
    }
   ],
   "source": [
    "z_stat, p = weightstats.ztest(x1 = wine_data['points'], value = 88.43) \n",
    "print(z_stat, p)"
   ]
  },
  {
   "cell_type": "code",
   "execution_count": 13,
   "metadata": {},
   "outputs": [
    {
     "name": "stdout",
     "output_type": "stream",
     "text": [
      "1.439603049709791 0.14997973631760209\n"
     ]
    }
   ],
   "source": [
    "z_stat, p = weightstats.ztest(x1 = wine_data['points'], value = 88.435) \n",
    "print(z_stat, p)"
   ]
  },
  {
   "cell_type": "code",
   "execution_count": 14,
   "metadata": {},
   "outputs": [
    {
     "name": "stdout",
     "output_type": "stream",
     "text": [
      "0.8465982672574676 0.3972190800696358\n"
     ]
    }
   ],
   "source": [
    "z_stat, p = weightstats.ztest(x1 = wine_data['points'], value = 88.44) \n",
    "print(z_stat, p)"
   ]
  },
  {
   "cell_type": "markdown",
   "metadata": {},
   "source": [
    "#### Step2: We can also extract z-critical to compare it with z-statistic"
   ]
  },
  {
   "cell_type": "code",
   "execution_count": 15,
   "metadata": {},
   "outputs": [],
   "source": [
    "z_crit = stats.norm.ppf(1-alpha/2, loc=0, scale=1) # since it is a two sided test"
   ]
  },
  {
   "cell_type": "code",
   "execution_count": 16,
   "metadata": {},
   "outputs": [
    {
     "name": "stdout",
     "output_type": "stream",
     "text": [
      "accept null hypothesis\n"
     ]
    }
   ],
   "source": [
    "if np.abs(z_stat) > np.abs(z_crit): # comparing same-sided values\n",
    "    print(\"reject null hypothesis\")\n",
    "else:\n",
    "    print(\"accept null hypothesis\")"
   ]
  },
  {
   "cell_type": "markdown",
   "metadata": {},
   "source": [
    "* So, either you compare z statistics with z critical or compare p value with alpha\n",
    "* Now the z-statistic is greater than z-critical and we reject the null hypothesis. \n",
    "* Statistically speaking we say that this sample was drawn from some different population than the WineEnthusiast population. "
   ]
  },
  {
   "cell_type": "markdown",
   "metadata": {},
   "source": [
    "* If I change the sample mean and make it closer to mu (pop mean), what happens?"
   ]
  },
  {
   "cell_type": "code",
   "execution_count": 17,
   "metadata": {},
   "outputs": [
    {
     "data": {
      "text/plain": [
       "88.44713820775404"
      ]
     },
     "execution_count": 17,
     "metadata": {},
     "output_type": "execute_result"
    }
   ],
   "source": [
    "mu"
   ]
  },
  {
   "cell_type": "code",
   "execution_count": 18,
   "metadata": {},
   "outputs": [
    {
     "name": "stdout",
     "output_type": "stream",
     "text": [
      "-0.33941129764886485 0.7342999088990778\n"
     ]
    }
   ],
   "source": [
    "z_stat, p = weightstats.ztest(wine_data['points'], x2 = None, value = 88.45)\n",
    "print(z_stat, p)"
   ]
  },
  {
   "cell_type": "markdown",
   "metadata": {
    "_cell_guid": "5fa95660-43e2-4848-b758-b914919865a9",
    "_uuid": "49395110a1332f8a83c39d928d2b431f79a69b7a",
    "colab_type": "text",
    "id": "PNvkX4V5E42-"
   },
   "source": [
    "* Since z_stat is less than z_critical we accept the null hypothesis and reject the althernative. "
   ]
  },
  {
   "cell_type": "code",
   "execution_count": 19,
   "metadata": {},
   "outputs": [
    {
     "name": "stdout",
     "output_type": "stream",
     "text": [
      "accept null hypothesis\n"
     ]
    }
   ],
   "source": [
    "if p < alpha: # comparing same-sided values\n",
    "    print(\"reject null hypothesis\")\n",
    "else:\n",
    "    print(\"accept null hypothesis\")"
   ]
  },
  {
   "cell_type": "markdown",
   "metadata": {},
   "source": [
    "Statistically speaking we say that this sample was indeed drawn from the WineEnthusiast population."
   ]
  },
  {
   "cell_type": "code",
   "execution_count": null,
   "metadata": {},
   "outputs": [],
   "source": []
  },
  {
   "cell_type": "code",
   "execution_count": 20,
   "metadata": {},
   "outputs": [
    {
     "data": {
      "text/plain": [
       "(-6.269459122177156, 3.6230439015128957e-10)"
      ]
     },
     "execution_count": 20,
     "metadata": {},
     "output_type": "execute_result"
    }
   ],
   "source": [
    "weightstats.ztest(wine_data['points'], x2 = None, value = 88.5)"
   ]
  },
  {
   "cell_type": "markdown",
   "metadata": {},
   "source": [
    "#### ---------------------------------------------------------------------------------------------------------------------------------------------------------------------------------------"
   ]
  },
  {
   "cell_type": "markdown",
   "metadata": {
    "_cell_guid": "a870ca15-2539-4ee0-a02f-3bbfc58dd2cb",
    "_uuid": "c68730a7d4f4fb2ff3c9b9d230ca6f3678b89e5c",
    "colab_type": "text",
    "collapsed": true,
    "id": "ds1nRHW0E43C"
   },
   "source": [
    "## T-Tests\n"
   ]
  },
  {
   "cell_type": "markdown",
   "metadata": {
    "_cell_guid": "d3aaab21-ec70-40e2-963a-02bc45957a73",
    "_uuid": "12dd5dd0c498a151b4d672f224881296ceb75719",
    "colab_type": "text",
    "id": "O32jgRLlE43C"
   },
   "source": [
    "## Framework for Statistical Hypothesis Testing with T-Tests\n",
    "* Do you have one sample that you want to compare to some spcified value? Do a **one-sample t-test**. For example, let's say it is well known that acorns have an average mass of 10 g, and you want to test to see if them mass of acorns from a forest subjected to acid rain are signifcantly different. \n",
    "\n",
    "* Do you have two independent samples that you want to compare to each other? Do an **independent samples t-test**. For example, let's say you take samples of acorn from a forest upwind and downwind from a coal power plant and you want to test to see if the average mass of the acorns from the two samples is the same.\n",
    "\n",
    "* Do you have two dependent samples taken from the same indidividuals or objects? Do a **paired samples t-test**. For example, let's say you measure the average mass of acorns from 50 trees in a forest before and after the local power plant converted from coal to natural gas and want to see if there is a difference in the masses pre-conversion to post-conversion. "
   ]
  },
  {
   "cell_type": "markdown",
   "metadata": {},
   "source": [
    "Process:\n",
    "1. We specify a significance (alpha) level, typically at 5%.\n",
    "\n",
    "2. Next, we calculate the p-value and z-statistic by using function **stats.ttest_1samp(x, mean)**\n",
    "    * a) For a two-tailed test, we have to compare alpha with p (p is returned for two-tailed by default)\n",
    "    * b) For a one-tailed test, we have to compare alpha with p/2\n",
    "\n",
    "3. We can we should use **stats.t.ppf()** function\n",
    "\n",
    "    * a) We use **stats.t.ppf(1-alpha, df)** for one sided test\n",
    "    * b) We use **stats.t.ppf(1-alpha/2, df)** for two sided test\n",
    "\n",
    "4. Next we compare the z-statitic with the z-critical or we can compare the p-value with alpha\n",
    "\n",
    "5. If z-statistic < z-critical or p-value > alpha, then we accept the null hypothesis & vice-versa."
   ]
  },
  {
   "cell_type": "markdown",
   "metadata": {
    "_cell_guid": "9b9566bb-e9b5-4b48-9b45-0194167d2b2b",
    "_uuid": "6256e72b89e829fc8583163418120a3e50aaa156",
    "colab_type": "text",
    "id": "euOWOovJE43G"
   },
   "source": [
    "## One-sample location t-test on whether the mean of a population is equal to a value specified in null hypothesis\n",
    "\n",
    "The mass of a sample of N=20 acorns from a forest subjected to acid rain from a coal power plant are:\n",
    "\n",
    "m = 8.8, 6.6, 9.5, 11.2, 10.2, 7.4, 8.0, 9.6, 9.9, 9.0, 7.6, 7.4, 10.4, 11.1, 8.5, 10.0, 11.6, 10.7, 10.3, and 7.0 g. \n",
    "\n",
    "Is the average mass of this sample different from the average mass of all acorns of &mu; = 10.0 g?\n",
    "\n",
    "* H<sub>0</sub>: x&#772; - &mu; = 0, that is there is no difference between my sample mean and the value of &mu;.\n",
    "* H<sub>a</sub>: x&#772; - &mu; &ne; 0 (two-sided test)\n",
    "* &alpha; = 0.05\n",
    "\n",
    "[t-table](http://www.sjsu.edu/faculty/gerstman/StatPrimer/t-table.pdf)\n",
    "* degrees of freedom: d<sub>f</sub> = N-1\n",
    "* t-critical for specified alpha level: t<sub>*</sub> = 2.093\n",
    "* t-statistic: t = (x&#772; - &mu;) / (s/sqrt(N)) where s is the sample standard deviation.\n"
   ]
  },
  {
   "cell_type": "code",
   "execution_count": 21,
   "metadata": {},
   "outputs": [],
   "source": [
    "# Given:\n",
    "x = [8.8, 6.6, 9.5, 11.2, 10.2, 7.4, 8.0, 9.6, 9.9, 9.0, 7.6, 7.4, 10.4, 11.1, 8.5, 10.0, 11.6, 10.7, 10.3, 7.0]\n",
    "mu = 10\n",
    "alpha = 0.05"
   ]
  },
  {
   "cell_type": "code",
   "execution_count": 22,
   "metadata": {},
   "outputs": [],
   "source": [
    "df = len(x)-1\n",
    "x_bar = np.mean(x)"
   ]
  },
  {
   "cell_type": "code",
   "execution_count": 23,
   "metadata": {},
   "outputs": [],
   "source": [
    "x_std = np.std(x)"
   ]
  },
  {
   "cell_type": "markdown",
   "metadata": {},
   "source": [
    "#### Step1: Calculate t-statistic and p-value to compare it with alpha"
   ]
  },
  {
   "cell_type": "code",
   "execution_count": 24,
   "metadata": {},
   "outputs": [
    {
     "name": "stdout",
     "output_type": "stream",
     "text": [
      "t-statistic =  -2.2491611580763973 , p =  0.03655562279112415\n"
     ]
    }
   ],
   "source": [
    "t_stat, p = stats.ttest_1samp(x, mu) \n",
    "print(\"t-statistic = \", t_stat, \", p = \", p)"
   ]
  },
  {
   "cell_type": "code",
   "execution_count": 25,
   "metadata": {},
   "outputs": [
    {
     "name": "stdout",
     "output_type": "stream",
     "text": [
      "Reject null hypothesis\n"
     ]
    }
   ],
   "source": [
    "if p < alpha:    # alpha value is 0.05 or 5%\n",
    "    print(\"Reject null hypothesis\")\n",
    "else:\n",
    "    print(\"Accept null hypothesis\")"
   ]
  },
  {
   "cell_type": "markdown",
   "metadata": {},
   "source": [
    "#### Step2: We can also extract t-critical to compare it with t-statistic"
   ]
  },
  {
   "cell_type": "code",
   "execution_count": 26,
   "metadata": {},
   "outputs": [
    {
     "data": {
      "text/plain": [
       "2.093024054408263"
      ]
     },
     "execution_count": 26,
     "metadata": {},
     "output_type": "execute_result"
    }
   ],
   "source": [
    "t_crit = stats.t.ppf(1-alpha/2, df) # Since two sided\n",
    "t_crit"
   ]
  },
  {
   "cell_type": "code",
   "execution_count": 27,
   "metadata": {},
   "outputs": [
    {
     "name": "stdout",
     "output_type": "stream",
     "text": [
      " Reject null hypothesis\n"
     ]
    }
   ],
   "source": [
    "if t_stat < t_crit:    # alpha value is 0.05 or 5%\n",
    "    print(\" Reject null hypothesis\")\n",
    "else:\n",
    "    print(\"Accept null hypothesis\")"
   ]
  },
  {
   "cell_type": "markdown",
   "metadata": {},
   "source": [
    "#### Let's report the 95% confidence intervals as well ... "
   ]
  },
  {
   "cell_type": "code",
   "execution_count": 28,
   "metadata": {},
   "outputs": [
    {
     "data": {
      "text/plain": [
       "0.3293478404362172"
      ]
     },
     "execution_count": 28,
     "metadata": {},
     "output_type": "execute_result"
    }
   ],
   "source": [
    "SE = x_std/(len(x)**0.5)\n",
    "SE"
   ]
  },
  {
   "cell_type": "code",
   "execution_count": 29,
   "metadata": {
    "_cell_guid": "a77658d4-df97-429c-a8cc-f4b0c22a7716",
    "_uuid": "48295f9db014374bc05c3e8055921a11bd4a0504",
    "colab": {},
    "colab_type": "code",
    "id": "oDrGdRR_E43J",
    "outputId": "e74fa0d7-89c4-4364-dfe7-7044efd5277e"
   },
   "outputs": [
    {
     "name": "stdout",
     "output_type": "stream",
     "text": [
      "x_bar = 9.24, 95% CI [8.55, 9.93]\n"
     ]
    }
   ],
   "source": [
    "# margin of error\n",
    "err = t_crit*SE\n",
    "x_low = x_bar - err\n",
    "x_high = x_bar + err\n",
    "print(\"x_bar = {}, 95% CI [{}, {}]\".format(x_bar.round(2), x_low.round(2), x_high.round(2)))"
   ]
  },
  {
   "cell_type": "markdown",
   "metadata": {},
   "source": [
    "##### We can also get CIs by using the in-built function t.interval() function:\n",
    "##### Arguments: (conf, df, mean, SE)"
   ]
  },
  {
   "cell_type": "code",
   "execution_count": 30,
   "metadata": {},
   "outputs": [
    {
     "data": {
      "text/plain": [
       "(8.550667047699582, 9.929332952300415)"
      ]
     },
     "execution_count": 30,
     "metadata": {},
     "output_type": "execute_result"
    }
   ],
   "source": [
    "dof = len(x) - 1\n",
    "ci = stats.t.interval(1-alpha, dof, loc=x_bar, scale=SE)\n",
    "ci"
   ]
  },
  {
   "cell_type": "code",
   "execution_count": 31,
   "metadata": {},
   "outputs": [
    {
     "name": "stdout",
     "output_type": "stream",
     "text": [
      "CI using scipy:  (8.550667047699582, 9.929332952300415)\n"
     ]
    }
   ],
   "source": [
    "print(\"CI using scipy: \",ci) "
   ]
  },
  {
   "cell_type": "markdown",
   "metadata": {
    "_cell_guid": "fd17fd23-4f92-403e-aada-0b61433b22e9",
    "_uuid": "948240552a9daac38010e7ec652d02adbdfab6f7",
    "colab_type": "text",
    "id": "ulAnmKcwE43M"
   },
   "source": [
    "## Independent (unpaired) two-sample location test with a null hypothesis that the means of the two samples are equal (equal variance assumed).\n",
    "\n",
    "The mass of N<sub>1</sub>=20 acorns from oak trees up wind from a coal power plant and N<sub>2</sub>=30 acorns from oak trees down wind from the same coal power plant are mesured. Are the acorns from trees downwind less massive then the ones from up wind? This will require a one-tail (on the low/left side) test. The sample sizes are not equal but we will assume that the population variance of sample 1 and sample 2 are equal. If we don't make the assumption of equal variance then we do a Welch's t-test.\n",
    "\n",
    "* H<sub>0</sub>: x&#772;<sub>1</sub> = x&#772;<sub>2</sub>, or x&#772;<sub>2</sub> - x&#772;<sub>1</sub> = 0, that is , there is no difference between the sample means\n",
    "* H<sub>A</sub>: x&#772;<sub>2</sub> < x&#772;<sub>1</sub>, or x&#772;<sub>2</sub> - x&#772;<sub>1</sub> < 0\n",
    "* &alpha; = 0.05\n",
    "\n",
    "[t-table](http://www.sjsu.edu/faculty/gerstman/StatPrimer/t-table.pdf)\n",
    "* degrees of freedom: d<sub>f1</sub>= N<sub>1</sub>-1 = 19, d<sub>f2</sub>= N<sub>2</sub>-1 = 29, d<sub>f</sub> = d<sub>f1</sub> + d<sub>f2</sub> = N<sub>1</sub> + N<sub>2</sub> - 2 = 48\n",
    "\n",
    "* t-critical for specified alpha level: t<sub>*</sub> = -1.677 (one-tailed, left-side)\n",
    "* t-statistic: t = (x&#772;<sub>2</sub> - x&#772;<sub>1</sub>)/(s<sub>p</sub> sqrt(1/N<sub>1</sub> + 1/N<sub>2</sub>)))\n",
    "* pooled variance: s<sub>p</sub> = sqrt( ((d<sub>1</sub>) s<sub>1</sub><sup>2</sup> + (d<sub>2</sub>) s<sub>2</sub><sup>2</sup>)) / d<sub>f</sub> )\n"
   ]
  },
  {
   "cell_type": "code",
   "execution_count": 32,
   "metadata": {
    "_cell_guid": "f2b15c98-92e0-4f2b-90e1-beb62cc3ae03",
    "_uuid": "fa96a81f7f2ca3b6cb195dd0e0c087b8d30b348b",
    "colab": {},
    "colab_type": "code",
    "id": "uS5i2yATE43M",
    "outputId": "5032c658-d5c0-44f2-9ad3-936de89d0a43"
   },
   "outputs": [],
   "source": [
    "# sample up wind\n",
    "x1 = [10.8, 10.0, 8.2, 9.9, 11.6, 10.1, 11.3, 10.3, 10.7, 9.7, \n",
    "      7.8, 9.6, 9.7, 11.6, 10.3, 9.8, 12.3, 11.0, 10.4, 10.4]\n",
    "\n",
    "# sample down wind\n",
    "x2 = [7.8, 7.5, 9.5, 11.7, 8.1, 8.8, 8.8, 7.7, 9.7, 7.0, \n",
    "      9.0, 9.7, 11.3, 8.7, 8.8, 10.9, 10.3, 9.6, 8.4, 6.6,\n",
    "      7.2, 7.6, 11.5, 6.6, 8.6, 10.5, 8.4, 8.5, 10.2, 9.2]"
   ]
  },
  {
   "cell_type": "markdown",
   "metadata": {},
   "source": [
    "##### For two independent samples, we should use the inbuilt python function: stats.ttest_ind(x2, x1)\n",
    "* It gives the t statistic and the p-value with which we can directly compare with alpha value \n",
    "* We don't need to calculate anything like x_bar, SE, df etc.\n",
    "* We just need to feed in the data points array and population mean\n",
    "\n",
    "##### Note:\n",
    "* For a two-tailed test, we have to compare alpha with p (p is returned for two-tailed by default)\n",
    "* For a one-tailed test, we have to compare alpha with p/2\n",
    "* It means that the p-value returned by this function is two-sided; so the one-sided p value would be p/2"
   ]
  },
  {
   "cell_type": "code",
   "execution_count": 33,
   "metadata": {},
   "outputs": [],
   "source": [
    "alpha = 0.05"
   ]
  },
  {
   "cell_type": "code",
   "execution_count": 34,
   "metadata": {},
   "outputs": [
    {
     "name": "stdout",
     "output_type": "stream",
     "text": [
      "t-statistic =  -3.5981947686898033 ,  p_onesided = 0.0003780168739400732\n"
     ]
    }
   ],
   "source": [
    "t_stat, p_twosided = stats.ttest_ind(x2, x1)\n",
    "p_onesided = p_twosided/2\n",
    "print(\"t-statistic = \",t_stat, \", \", \"p_onesided =\", p_onesided)"
   ]
  },
  {
   "cell_type": "code",
   "execution_count": 35,
   "metadata": {},
   "outputs": [
    {
     "name": "stdout",
     "output_type": "stream",
     "text": [
      "Reject null hypothesis\n"
     ]
    }
   ],
   "source": [
    "if  p_onesided < alpha:    # alpha value is 0.05 or 5%\n",
    "    print(\"Reject null hypothesis\")\n",
    "else:\n",
    "    print(\"Accept null hypothesis\")"
   ]
  },
  {
   "cell_type": "markdown",
   "metadata": {
    "_cell_guid": "9b5d97b5-9c0c-4a45-b333-36d3bdeecdcc",
    "_uuid": "8520e337989f942369ad861e6aebece17394efe3",
    "colab_type": "text",
    "collapsed": true,
    "id": "1qEyYs3GE43P"
   },
   "source": [
    "## Paired samples (dependent/repeated measures) t-test with a null hypothesis that the mean difference is a specified constant (usually zero).\n",
    "\n",
    "The average mass of acorns from the same N=30 trees downwind of a power plant is measured before (x<sub>b</sub>) and after (x<sub>a</sub>) the power plant converts from burning coal to buring natural gas. Does the mass of the acorns increase after the conversion from coal to natural gas? This will require a one-tail (on the low/left side) test.\n",
    "\n",
    "* H<sub>0</sub>: x&#772;<sub>a</sub> - x&#772;<sub>b</sub> = 0, that is , there is no difference between the sample means\n",
    "* H<sub>A</sub>: x&#772;<sub>a</sub> - x&#772;<sub>b</sub> > 0\n",
    "* &alpha; = 0.05\n",
    "\n",
    "[t-table](http://www.sjsu.edu/faculty/gerstman/StatPrimer/t-table.pdf)\n",
    "* degrees of freedom: d<sub>f</sub> = N-1 = 29\n",
    "* t-critical for specified alpha level: t<sub>*</sub> = 1.677 (one-tailed, right-side)\n",
    "* t-statistic: t = (x&#772;<sub>diff</sub> - 0)/(s<sub>diff</sub> / sqrt(N))\n",
    "* standard deviation of difference: s<sub>d</sub> = sqrt(s<sub>a</sub><sup>2</sup>/N<sub>a</sub> + s<sub>b</sub><sup>2</sup>/N<sub>b</sub>)\n",
    "* mean difference: x&#772;<sub>diff</sub> = x&#772;<sub>a</sub> - x&#772;<sub>b</sub>"
   ]
  },
  {
   "cell_type": "code",
   "execution_count": 36,
   "metadata": {
    "_cell_guid": "d5690fde-4d81-4f50-93c0-cad681140c71",
    "_uuid": "a256d0a2cc6426f642854fc66a63dd146d37bcf7",
    "colab": {},
    "colab_type": "code",
    "id": "sn_qG1AbE43P",
    "outputId": "e57eccc9-9b57-4bf9-8656-84b21fa38fdb"
   },
   "outputs": [],
   "source": [
    "# sample before conversion to nat. gas\n",
    "xb = np.array([10.8, 6.4, 8.3, 7.6, 11.4, 9.9, 10.6, 8.7, 8.1, 10.9,\n",
    "      11.0, 11.8, 7.3, 9.6, 9.3, 9.9, 9.0, 9.5, 10.6, 10.3,\n",
    "      8.8, 12.3, 8.9, 10.5, 11.6, 7.6, 8.9, 10.4, 10.2, 8.8])\n",
    "# sample after conversion to nat. gas\n",
    "xa = np.array([10.1, 6.9, 8.6, 8.8, 12.1, 11.3, 12.4, 9.3, 9.3, 10.8,\n",
    "      12.4, 11.5, 7.4, 10.0, 11.1, 10.6, 9.4, 9.5, 10.0, 10.0,\n",
    "      9.7, 13.5, 9.6, 11.6, 11.7, 7.9, 8.6, 10.8, 9.5, 9.6])"
   ]
  },
  {
   "cell_type": "markdown",
   "metadata": {},
   "source": [
    "##### For two dependent/paired samples, we should use the inbuilt python function: stats.ttest_rel(x2, x1)\n",
    "* It gives the t statistic and the p-value with which we can directly compare with alpha value \n",
    "* We don't need to calculate anything like x_bar, SE, df etc.\n",
    "* We just need to feed in the data points array and population mean\n",
    "\n",
    "##### Note:\n",
    "* For a two-tailed test, we have to compare alpha with p (p is returned for two-tailed by default)\n",
    "* For a one-tailed test, we have to compare alpha with p/2\n",
    "* It means that the p-value returned by this function is two-sided; so the one-sided p value would be p/2"
   ]
  },
  {
   "cell_type": "code",
   "execution_count": 37,
   "metadata": {},
   "outputs": [
    {
     "name": "stdout",
     "output_type": "stream",
     "text": [
      "t-statistic =  3.905439081326491 , p =  0.0002584344912342189\n"
     ]
    }
   ],
   "source": [
    "t_stat, p_twosided = stats.ttest_rel(xa, xb) \n",
    "p_onesided = p_twosided/2\n",
    "\n",
    "print(\"t-statistic = \", t_stat, \", p = \", p_onesided)"
   ]
  },
  {
   "cell_type": "code",
   "execution_count": 38,
   "metadata": {},
   "outputs": [
    {
     "name": "stdout",
     "output_type": "stream",
     "text": [
      "Reject null hypothesis\n"
     ]
    }
   ],
   "source": [
    "if  p_onesided < 0.05:    # if alpha value is 0.05 or 5%\n",
    "    print(\"Reject null hypothesis\")\n",
    "else:\n",
    "    print(\"Accept null hypothesis\")"
   ]
  },
  {
   "cell_type": "markdown",
   "metadata": {
    "_cell_guid": "10cca2fc-bc78-46b0-a4b5-4e3908c90617",
    "_uuid": "86737f8db76a51ca47d2aa570f81af414eaf712f",
    "colab_type": "text",
    "collapsed": true,
    "id": "Z3zDyjG8E43T"
   },
   "source": [
    "So, there is a statistically significant difference between the two samples at the &alpha; = 0.05 level. \n",
    "\n"
   ]
  },
  {
   "cell_type": "code",
   "execution_count": 39,
   "metadata": {},
   "outputs": [
    {
     "data": {
      "text/plain": [
       "(10.133333333333333, 9.633333333333331)"
      ]
     },
     "execution_count": 39,
     "metadata": {},
     "output_type": "execute_result"
    }
   ],
   "source": [
    "np.mean(xa), np.mean(xb)"
   ]
  },
  {
   "cell_type": "markdown",
   "metadata": {},
   "source": [
    "#### Functions to notice:\n",
    "\n",
    "* #### ttest_1samp : for one sample(x, mu)\n",
    "* #### stats.ttest_ind : for two samples which are independent(x2, x1, equal_var=True)\n",
    "* #### stats.ttest_rel : for two samples which are dependent(x2, x1)"
   ]
  },
  {
   "cell_type": "code",
   "execution_count": null,
   "metadata": {},
   "outputs": [],
   "source": []
  },
  {
   "cell_type": "markdown",
   "metadata": {},
   "source": [
    "### Question (slide)"
   ]
  },
  {
   "cell_type": "markdown",
   "metadata": {},
   "source": [
    "Q. A study was done to see the effect of presence of dogs as pets on kids (ages 10 to 18). Two groups of teenagers, one group with teenagers who owned a dog for minimum 5 years and another group of kids who never owned a dog, were presented a questionnaire and scores were computed. High score corresponds to higher cheerfulness and low score corresponds to lower cheerfulness.\n",
    "\n",
    "Do dogs have a significant effect (+ve or –ve) on the cheerfulness of kids?\n",
    "\n",
    "Dog: 6.6, 7.8, 4.6, 7.8, 7, 8, 9, 9, 8.8, 9.9, 8.5, 7.7, 8.6, 8, 7, 5.8, 7.4\n",
    "\n",
    "No_dog: 9.8, 8.3, 7.1, 7.2, 8.1, 8.9, 6, 7, 7.5, 7.8, 7.6, 7.3, 6.4, 6.8, 7, 6.4, 7.9"
   ]
  },
  {
   "cell_type": "markdown",
   "metadata": {},
   "source": [
    "#### Solution:"
   ]
  },
  {
   "cell_type": "markdown",
   "metadata": {},
   "source": [
    "𝐻_0  : 𝑚_d = 𝑚_nd (pets have no effect on the cheerfulness of kids)\n",
    "\n",
    "𝐻_𝑎  : 𝑚_d ≠ 𝑚_nd (pets have an effect on the cheerfulness of kids)"
   ]
  },
  {
   "cell_type": "code",
   "execution_count": 40,
   "metadata": {},
   "outputs": [],
   "source": [
    "alpha = 0.05"
   ]
  },
  {
   "cell_type": "code",
   "execution_count": 41,
   "metadata": {},
   "outputs": [],
   "source": [
    "# sample before conversion to nat. gas\n",
    "x_d = np.array([6.6, 7.8, 4.6, 7.8, 7, 8, 9, 9, 8.8, 9.9, 8.5, 7.7, 8.6, 8, 7, 5.8, 7.4])\n",
    "# sample after conversion to nat. gas\n",
    "x_nd = np.array([9.8, 8.3, 7.1, 7.2, 8.1, 8.9, 6, 7, 7.5, 7.8, 7.6, 7.3, 6.4, 6.8, 7, 6.4, 7.9])"
   ]
  },
  {
   "cell_type": "code",
   "execution_count": 42,
   "metadata": {},
   "outputs": [
    {
     "data": {
      "text/plain": [
       "(17, 17)"
      ]
     },
     "execution_count": 42,
     "metadata": {},
     "output_type": "execute_result"
    }
   ],
   "source": [
    "len(x_d), len(x_nd)"
   ]
  },
  {
   "cell_type": "code",
   "execution_count": 43,
   "metadata": {},
   "outputs": [
    {
     "data": {
      "text/plain": [
       "32"
      ]
     },
     "execution_count": 43,
     "metadata": {},
     "output_type": "execute_result"
    }
   ],
   "source": [
    "dof = len(x_d) + len(x_nd) - 2\n",
    "dof"
   ]
  },
  {
   "cell_type": "code",
   "execution_count": 44,
   "metadata": {},
   "outputs": [
    {
     "name": "stdout",
     "output_type": "stream",
     "text": [
      "0.6665710337435845 0.5098239300755949\n"
     ]
    }
   ],
   "source": [
    "t_stat, p_twosided = stats.ttest_ind(x_d, x_nd)\n",
    "print(t_stat, p_twosided)"
   ]
  },
  {
   "cell_type": "code",
   "execution_count": 45,
   "metadata": {},
   "outputs": [
    {
     "name": "stdout",
     "output_type": "stream",
     "text": [
      "Accept null hypothesis\n"
     ]
    }
   ],
   "source": [
    "if  p_twosided < alpha:   \n",
    "    print(\"Reject null hypothesis\")\n",
    "else:\n",
    "    print(\"Accept null hypothesis\")"
   ]
  },
  {
   "cell_type": "markdown",
   "metadata": {},
   "source": [
    "Hence, we could not prove that pets either increase or decrease the cheerfulness of kids. "
   ]
  },
  {
   "cell_type": "code",
   "execution_count": 46,
   "metadata": {},
   "outputs": [],
   "source": [
    "### OR we can compare t_stat with t_crit"
   ]
  },
  {
   "cell_type": "code",
   "execution_count": 47,
   "metadata": {},
   "outputs": [
    {
     "data": {
      "text/plain": [
       "2.036933343460101"
      ]
     },
     "execution_count": 47,
     "metadata": {},
     "output_type": "execute_result"
    }
   ],
   "source": [
    "t_crit = stats.t.ppf(1-alpha/2, dof) # Since two sided\n",
    "t_crit"
   ]
  },
  {
   "cell_type": "code",
   "execution_count": 48,
   "metadata": {},
   "outputs": [
    {
     "name": "stdout",
     "output_type": "stream",
     "text": [
      "Accept null hypothesis\n"
     ]
    }
   ],
   "source": [
    "if t_stat >= t_crit:\n",
    "    print(\"Reject null hypothesis\")\n",
    "else:\n",
    "    print(\"Accept null hypothesis\")"
   ]
  },
  {
   "cell_type": "code",
   "execution_count": null,
   "metadata": {},
   "outputs": [],
   "source": []
  }
 ],
 "metadata": {
  "colab": {
   "collapsed_sections": [],
   "name": "Hypothesis_Testing_Examples_Z-test_t-tests.ipynb",
   "provenance": [],
   "version": "0.3.2"
  },
  "kernelspec": {
   "display_name": "Python 3",
   "language": "python",
   "name": "python3"
  },
  "language_info": {
   "codemirror_mode": {
    "name": "ipython",
    "version": 3
   },
   "file_extension": ".py",
   "mimetype": "text/x-python",
   "name": "python",
   "nbconvert_exporter": "python",
   "pygments_lexer": "ipython3",
   "version": "3.8.3"
  }
 },
 "nbformat": 4,
 "nbformat_minor": 1
}
