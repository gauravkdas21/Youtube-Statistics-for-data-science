{
 "cells": [
  {
   "cell_type": "markdown",
   "metadata": {},
   "source": [
    "## Chi-Square Test"
   ]
  },
  {
   "cell_type": "markdown",
   "metadata": {},
   "source": [
    "* The test is applied when you have two categorical variables from a single population. \n",
    "* We also compare variances. \n",
    "* It is used to  determine whether there is a significant association between the two variables.\n",
    "* We use the function stats.chi2_contingency(contingency_table)\n",
    "* This function gives 4 values: chi-square statistic, p-value, df, expected values (matrix)\n",
    "* We calculate the chi-square critical value using chi2.ppf(q=1-alpha,df=df)\\\n",
    "* Compare p with alpha or chi_stat with chi_crit "
   ]
  },
  {
   "cell_type": "markdown",
   "metadata": {},
   "source": [
    "Q) For example, in an election survey, voters might be classified by gender (male or female) and shopping preference (Yes/No).\n",
    "\n",
    "Here we can use a chi-square test for independence to determine whether gender is related to shopping preference"
   ]
  },
  {
   "cell_type": "code",
   "execution_count": 1,
   "metadata": {},
   "outputs": [],
   "source": [
    "import numpy as np\n",
    "import pandas as pd\n",
    "import matplotlib.pyplot as plt\n",
    "import seaborn as sns\n",
    "import scipy.stats as stats"
   ]
  },
  {
   "cell_type": "code",
   "execution_count": 2,
   "metadata": {},
   "outputs": [],
   "source": [
    "H0 = \"There is no relationship between the categorical variables\"\n",
    "H1 = \"There is a relationship between the categorical variables\""
   ]
  },
  {
   "cell_type": "code",
   "execution_count": 3,
   "metadata": {},
   "outputs": [
    {
     "data": {
      "text/html": [
       "<div>\n",
       "<style scoped>\n",
       "    .dataframe tbody tr th:only-of-type {\n",
       "        vertical-align: middle;\n",
       "    }\n",
       "\n",
       "    .dataframe tbody tr th {\n",
       "        vertical-align: top;\n",
       "    }\n",
       "\n",
       "    .dataframe thead th {\n",
       "        text-align: right;\n",
       "    }\n",
       "</style>\n",
       "<table border=\"1\" class=\"dataframe\">\n",
       "  <thead>\n",
       "    <tr style=\"text-align: right;\">\n",
       "      <th></th>\n",
       "      <th>Gender</th>\n",
       "      <th>Like Shopping?</th>\n",
       "    </tr>\n",
       "  </thead>\n",
       "  <tbody>\n",
       "    <tr>\n",
       "      <th>0</th>\n",
       "      <td>Male</td>\n",
       "      <td>No</td>\n",
       "    </tr>\n",
       "    <tr>\n",
       "      <th>1</th>\n",
       "      <td>Female</td>\n",
       "      <td>Yes</td>\n",
       "    </tr>\n",
       "    <tr>\n",
       "      <th>2</th>\n",
       "      <td>Male</td>\n",
       "      <td>Yes</td>\n",
       "    </tr>\n",
       "    <tr>\n",
       "      <th>3</th>\n",
       "      <td>Female</td>\n",
       "      <td>Yes</td>\n",
       "    </tr>\n",
       "    <tr>\n",
       "      <th>4</th>\n",
       "      <td>Female</td>\n",
       "      <td>Yes</td>\n",
       "    </tr>\n",
       "  </tbody>\n",
       "</table>\n",
       "</div>"
      ],
      "text/plain": [
       "   Gender Like Shopping?\n",
       "0    Male             No\n",
       "1  Female            Yes\n",
       "2    Male            Yes\n",
       "3  Female            Yes\n",
       "4  Female            Yes"
      ]
     },
     "execution_count": 3,
     "metadata": {},
     "output_type": "execute_result"
    }
   ],
   "source": [
    "df = pd.read_excel('datasets/chi-test.xlsx')\n",
    "df.head()"
   ]
  },
  {
   "cell_type": "markdown",
   "metadata": {},
   "source": [
    "* Step 1: Let's first calculate the **cross table**"
   ]
  },
  {
   "cell_type": "code",
   "execution_count": 5,
   "metadata": {},
   "outputs": [
    {
     "name": "stdout",
     "output_type": "stream",
     "text": [
      "contingency_table :-\n",
      " Like Shopping?  No  Yes\n",
      "Gender                 \n",
      "Female           2    3\n",
      "Male             2    2\n"
     ]
    }
   ],
   "source": [
    "contingency_table=pd.crosstab(df[\"Gender\"],df[\"Like Shopping?\"])\n",
    "print('contingency_table :-\\n',contingency_table)"
   ]
  },
  {
   "cell_type": "code",
   "execution_count": 17,
   "metadata": {},
   "outputs": [
    {
     "name": "stdout",
     "output_type": "stream",
     "text": [
      "alpha = 0.05\n"
     ]
    }
   ],
   "source": [
    "# dof = (contingency_table.shape[0] -1)*(contingency_table.shape[1] -1) # dof = (r-1)*(c-1) of CTable\n",
    "# print(\"Degree of Freedom:\",dof) ## dof will be given by the chi2 function itself\n",
    "\n",
    "alpha = 0.05 # assumed\n",
    "print('alpha =', alpha)"
   ]
  },
  {
   "cell_type": "markdown",
   "metadata": {},
   "source": [
    "* Step 2: Extract the **contingency matrix** of numbers alone. These will be the observed frequencies"
   ]
  },
  {
   "cell_type": "code",
   "execution_count": 9,
   "metadata": {},
   "outputs": [
    {
     "name": "stdout",
     "output_type": "stream",
     "text": [
      "Observed Values :-\n",
      " [[2 3]\n",
      " [2 2]]\n"
     ]
    }
   ],
   "source": [
    "#Observed Values\n",
    "Observed_freq = contingency_table.values \n",
    "print(\"Observed Values :-\\n\",Observed_freq)"
   ]
  },
  {
   "cell_type": "markdown",
   "metadata": {},
   "source": [
    "* Step 3: We calculate the p_value using the function **stats.chi2_contingency(Observed_freq)**"
   ]
  },
  {
   "cell_type": "code",
   "execution_count": 15,
   "metadata": {},
   "outputs": [
    {
     "name": "stdout",
     "output_type": "stream",
     "text": [
      "chi_statistic =  0.1406249999999999 p =  0.7076604666545525\n"
     ]
    }
   ],
   "source": [
    "chi_stat, p, dof, expected_values=stats.chi2_contingency(Observed_freq)\n",
    "print(\"chi_statistic = \", chi_stat, \"p = \", p)"
   ]
  },
  {
   "cell_type": "markdown",
   "metadata": {},
   "source": [
    "* Step 4: We calculate the chi-square critical value"
   ]
  },
  {
   "cell_type": "code",
   "execution_count": 11,
   "metadata": {},
   "outputs": [
    {
     "name": "stdout",
     "output_type": "stream",
     "text": [
      "critical_value: 3.841458820694124\n"
     ]
    }
   ],
   "source": [
    "chi_crit = stats.chi2.ppf(1-alpha,df=dof)\n",
    "print('critical_value:',chi_crit)"
   ]
  },
  {
   "cell_type": "markdown",
   "metadata": {},
   "source": [
    "* Step 5: Compare p with alpha or chi_statistic with chi_critical"
   ]
  },
  {
   "cell_type": "code",
   "execution_count": 14,
   "metadata": {},
   "outputs": [
    {
     "name": "stdout",
     "output_type": "stream",
     "text": [
      "p-value: 0.7076604666545525\n",
      "Significance level:  0.05\n",
      "Degree of Freedom:  1\n",
      "chi-square statistic: 0.1406249999999999\n",
      "critical_value: 3.841458820694124\n"
     ]
    }
   ],
   "source": [
    "print('p-value:',p)\n",
    "print('Significance level: ',alpha)\n",
    "print('Degree of Freedom: ',dof)\n",
    "print('chi-square statistic:',chi_stat)\n",
    "print('critical_value:',chi_crit)"
   ]
  },
  {
   "cell_type": "code",
   "execution_count": 13,
   "metadata": {},
   "outputs": [
    {
     "name": "stdout",
     "output_type": "stream",
     "text": [
      "From chi-square value:\n",
      "Failed to reject the null hypothesis. There is no relationship between the categorical variables\n",
      "\n",
      "From p-value:\n",
      "Failed to reject the null hypothesis. There is no relationship between the categorical variables\n"
     ]
    }
   ],
   "source": [
    "print('From chi-square value:')\n",
    "\n",
    "if chi_stat  >= chi_crit:\n",
    "    print(\"Reject null hypothesis.\", H1)\n",
    "else:\n",
    "    print(\"Failed to reject the null hypothesis.\", H0)\n",
    "\n",
    "# ------------------------------------------------------\n",
    "print('\\nFrom p-value:')\n",
    "\n",
    "if p <= alpha:\n",
    "    print(\"Reject null hypothesis.\", H1)\n",
    "else:\n",
    "    print(\"Failed to reject the null hypothesis.\", H0)"
   ]
  },
  {
   "cell_type": "markdown",
   "metadata": {},
   "source": [
    "### Question (slide)"
   ]
  },
  {
   "cell_type": "markdown",
   "metadata": {},
   "source": [
    "Q. The following is the income data of blue collar workers who are at the same skill level. There are two groups of workers. Workers of the textile company “Lori’s and Co.” and workers of the general population. We want to check weather the variance in the income of Lori’s is higher than of the general population.\n",
    "\n",
    "Mean and variance of general population = 100,  16.11\n",
    "\n",
    "Lori’s : 105, 95, 90,  98, 110, 104, 108, 111, 110, 102, 98, 105, 105, 105, 115 "
   ]
  },
  {
   "cell_type": "markdown",
   "metadata": {},
   "source": [
    "#### Solution:"
   ]
  },
  {
   "cell_type": "markdown",
   "metadata": {},
   "source": [
    "𝐻_0  : 𝑣_l = 𝑣_𝑝 (variance in income of Lori’s is same as the population)\n",
    "\n",
    "𝐻_𝑎  : 𝑣_l > 𝑣_𝑝 (variance in income of Lori’s is higher than the population)"
   ]
  },
  {
   "cell_type": "code",
   "execution_count": 18,
   "metadata": {},
   "outputs": [],
   "source": [
    "H_0 = 'Variance in income of Lori’s is same as the population'\n",
    "H_a = 'Variance in income of Lori’s is higher than the population'"
   ]
  },
  {
   "cell_type": "code",
   "execution_count": 19,
   "metadata": {},
   "outputs": [],
   "source": [
    "sigma_sq = 16.11 #variance"
   ]
  },
  {
   "cell_type": "code",
   "execution_count": 20,
   "metadata": {},
   "outputs": [],
   "source": [
    "x = [105, 95, 90, 98, 110, 104, 108, 111, 110, 102, 98, 105, 105, 105, 115]"
   ]
  },
  {
   "cell_type": "code",
   "execution_count": 22,
   "metadata": {},
   "outputs": [],
   "source": [
    "alpha = 0.05"
   ]
  },
  {
   "cell_type": "code",
   "execution_count": null,
   "metadata": {},
   "outputs": [],
   "source": [
    "## Python doesnot have in-built function of chi square test of variance."
   ]
  },
  {
   "cell_type": "code",
   "execution_count": null,
   "metadata": {},
   "outputs": [],
   "source": []
  },
  {
   "cell_type": "code",
   "execution_count": 27,
   "metadata": {},
   "outputs": [],
   "source": [
    "def chi2_variance(x, pop_var):\n",
    "    \n",
    "    n = len(x)\n",
    "    dof = n-1\n",
    "    chi_stat = (dof*(np.array(x).std())**2)/pop_var\n",
    "    \n",
    "    p_value = 1 - round(stats.chi2.cdf(chi_stat, df = dof),4)\n",
    "    \n",
    "    return chi_stat, p_value, dof"
   ]
  },
  {
   "cell_type": "code",
   "execution_count": 28,
   "metadata": {},
   "outputs": [
    {
     "data": {
      "text/plain": [
       "(35.62618111593904, 0.0011999999999999789)"
      ]
     },
     "execution_count": 28,
     "metadata": {},
     "output_type": "execute_result"
    }
   ],
   "source": [
    "chi_stat, p_value, dof = chi2_variance(x, sigma_sq)\n",
    "chi_stat, p_value"
   ]
  },
  {
   "cell_type": "code",
   "execution_count": 29,
   "metadata": {},
   "outputs": [
    {
     "name": "stdout",
     "output_type": "stream",
     "text": [
      "critical_value: 23.684791304840576\n"
     ]
    }
   ],
   "source": [
    "chi_crit = stats.chi2.ppf(1-alpha, df = dof)\n",
    "print('critical_value:',chi_crit)"
   ]
  },
  {
   "cell_type": "code",
   "execution_count": 31,
   "metadata": {},
   "outputs": [
    {
     "name": "stdout",
     "output_type": "stream",
     "text": [
      "From chi-square value:\n",
      "Reject null hypothesis. Variance in income of Lori’s is higher than the population\n",
      "\n",
      "From p-value:\n",
      "Reject null hypothesis. Variance in income of Lori’s is higher than the population\n"
     ]
    }
   ],
   "source": [
    "print('From chi-square value:')\n",
    "\n",
    "if chi_stat  >= chi_crit:\n",
    "    print(\"Reject null hypothesis.\", H_a)\n",
    "else:\n",
    "    print(\"Failed to reject the null hypothesis.\", H_0)\n",
    "\n",
    "# ------------------------------------------------------\n",
    "print('\\nFrom p-value:')\n",
    "\n",
    "if p_value <= alpha:\n",
    "    print(\"Reject null hypothesis.\", H_a)\n",
    "else:\n",
    "    print(\"Failed to reject the null hypothesis.\", H_0)"
   ]
  },
  {
   "cell_type": "code",
   "execution_count": null,
   "metadata": {},
   "outputs": [],
   "source": []
  },
  {
   "cell_type": "markdown",
   "metadata": {},
   "source": [
    "### Question (slide)"
   ]
  },
  {
   "attachments": {
    "image.png": {
     "image/png": "[encoded data removed]"
    }
   },
   "cell_type": "markdown",
   "metadata": {},
   "source": [
    "Q. A die is thrown 132 times with the following results:\n",
    "\n",
    "![image.png](attachment:image.png)\n",
    "\n",
    "Is the die unbiased?"
   ]
  },
  {
   "cell_type": "code",
   "execution_count": 47,
   "metadata": {},
   "outputs": [],
   "source": [
    "𝐻_0 = 'Die is unbiased'\n",
    "𝐻_𝑎 = 'Die is biased'"
   ]
  },
  {
   "cell_type": "code",
   "execution_count": 48,
   "metadata": {},
   "outputs": [],
   "source": [
    "freq_obs = [15, 20, 25, 14, 29, 28]"
   ]
  },
  {
   "cell_type": "code",
   "execution_count": 52,
   "metadata": {},
   "outputs": [],
   "source": [
    "n_trials = 132\n",
    "n = 6 # no of actual outcomes (from observed table)\n",
    "prob = 1/6 # for 1 trial\n",
    "alpha = 0.05"
   ]
  },
  {
   "cell_type": "code",
   "execution_count": 50,
   "metadata": {},
   "outputs": [
    {
     "data": {
      "text/plain": [
       "[22.0, 22.0, 22.0, 22.0, 22.0, 22.0]"
      ]
     },
     "execution_count": 50,
     "metadata": {},
     "output_type": "execute_result"
    }
   ],
   "source": [
    "freq_exp = [prob*n_trials]*n\n",
    "freq_exp"
   ]
  },
  {
   "cell_type": "code",
   "execution_count": 51,
   "metadata": {},
   "outputs": [
    {
     "data": {
      "text/plain": [
       "(9.59090909090909, 0.08769204644626248)"
      ]
     },
     "execution_count": 51,
     "metadata": {},
     "output_type": "execute_result"
    }
   ],
   "source": [
    "chi_stat, p_value = stats.chisquare(freq_obs, freq_exp)\n",
    "chi_stat, p_value"
   ]
  },
  {
   "cell_type": "code",
   "execution_count": 53,
   "metadata": {},
   "outputs": [
    {
     "name": "stdout",
     "output_type": "stream",
     "text": [
      "From p-value:\n",
      "Failed to reject the null hypothesis. Die is unbiased\n"
     ]
    }
   ],
   "source": [
    "print('From p-value:')\n",
    "\n",
    "if p_value <= alpha:\n",
    "    print(\"Reject null hypothesis.\", 𝐻_𝑎)\n",
    "else:\n",
    "    print(\"Failed to reject the null hypothesis.\", 𝐻_0)"
   ]
  },
  {
   "cell_type": "code",
   "execution_count": null,
   "metadata": {},
   "outputs": [],
   "source": [
    "##---------------OR"
   ]
  },
  {
   "cell_type": "code",
   "execution_count": 54,
   "metadata": {},
   "outputs": [
    {
     "data": {
      "text/plain": [
       "11.070497693516351"
      ]
     },
     "execution_count": 54,
     "metadata": {},
     "output_type": "execute_result"
    }
   ],
   "source": [
    "chi_crit = stats.chi2.ppf(1-alpha, df = n-1)\n",
    "chi_crit"
   ]
  },
  {
   "cell_type": "code",
   "execution_count": 55,
   "metadata": {},
   "outputs": [
    {
     "name": "stdout",
     "output_type": "stream",
     "text": [
      "From chi-square value:\n",
      "Failed to reject the null hypothesis. Die is unbiased\n"
     ]
    }
   ],
   "source": [
    "print('From chi-square value:')\n",
    "\n",
    "if chi_stat  >= chi_crit:\n",
    "    print(\"Reject null hypothesis.\", 𝐻_𝑎)\n",
    "else:\n",
    "    print(\"Failed to reject the null hypothesis.\", 𝐻_0)"
   ]
  },
  {
   "cell_type": "code",
   "execution_count": null,
   "metadata": {},
   "outputs": [],
   "source": []
  }
 ],
 "metadata": {
  "colab": {
   "collapsed_sections": [],
   "name": "Hypothesis_Testing_Examples_Z-test_t-tests.ipynb",
   "provenance": [],
   "version": "0.3.2"
  },
  "kernelspec": {
   "display_name": "Python 3",
   "language": "python",
   "name": "python3"
  },
  "language_info": {
   "codemirror_mode": {
    "name": "ipython",
    "version": 3
   },
   "file_extension": ".py",
   "mimetype": "text/x-python",
   "name": "python",
   "nbconvert_exporter": "python",
   "pygments_lexer": "ipython3",
   "version": "3.8.3"
  }
 },
 "nbformat": 4,
 "nbformat_minor": 1
}
